{
 "cells": [
  {
   "cell_type": "markdown",
   "id": "18bddc1d-50b1-4038-b1b6-6d6e618c6f6a",
   "metadata": {},
   "source": [
    "# Template Applications\n",
    "- 模版是开源应用模版资源，能帮助你快速建立LangGraph应用。模版提供了常用的代理工作流的示例，基于此可以定制化你的需求。"
   ]
  },
  {
   "cell_type": "markdown",
   "id": "0ee700af-236f-4dcc-99fb-71523aa21072",
   "metadata": {},
   "source": [
    "Python >= 3.11。\n",
    "LangGraph CLI: Requires langchain-cli[inmem] >= 0.1.58"
   ]
  },
  {
   "cell_type": "markdown",
   "id": "42beaf7f-4098-43c5-9d0b-186b925ab71d",
   "metadata": {},
   "source": [
    "## 1. Install the LangGraph CLI"
   ]
  },
  {
   "cell_type": "markdown",
   "id": "3f37d79c-c010-43e8-b825-125cfb5aaa78",
   "metadata": {},
   "source": [
    "pip install \"langgraph-cli[inmem]\" --upgrade"
   ]
  },
  {
   "cell_type": "markdown",
   "id": "444a7c0a-8554-458e-92ae-c152c80f9b56",
   "metadata": {},
   "source": [
    "## 2.Available Templates¶"
   ]
  },
  {
   "cell_type": "markdown",
   "id": "3b3d3983-0227-4b9a-8954-b1eab5df3f52",
   "metadata": {},
   "source": [
    "1. New LangGraph Project \n",
    "    - A simple, minimal chatbot with memory.\t\n",
    "2. ReAct Agent \n",
    "    - A simple agent that can be flexibly extended to many tools.\n",
    "3. Memory Agent \n",
    "    - A ReAct-style agent with an additional tool to store memories for use across threads.\t\n",
    "4. Retrieval Agent\n",
    "    - An agent that includes a retrieval-based question-answering system.\n",
    "5. Data-Enrichment Agent\n",
    "    - An agent that performs web searches and organizes its findings into a structured format.\t"
   ]
  },
  {
   "cell_type": "code",
   "execution_count": null,
   "id": "280799d5-ad0b-488c-931a-bd355a3872a4",
   "metadata": {},
   "outputs": [],
   "source": []
  }
 ],
 "metadata": {
  "kernelspec": {
   "display_name": "Python 3 (ipykernel)",
   "language": "python",
   "name": "python3"
  },
  "language_info": {
   "codemirror_mode": {
    "name": "ipython",
    "version": 3
   },
   "file_extension": ".py",
   "mimetype": "text/x-python",
   "name": "python",
   "nbconvert_exporter": "python",
   "pygments_lexer": "ipython3",
   "version": "3.12.9"
  }
 },
 "nbformat": 4,
 "nbformat_minor": 5
}
