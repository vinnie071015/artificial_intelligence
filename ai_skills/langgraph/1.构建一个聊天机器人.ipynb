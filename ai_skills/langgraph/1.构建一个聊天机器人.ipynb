{
 "cells": [
  {
   "cell_type": "markdown",
   "id": "f9ce5442-60e5-4e81-a618-8db355038d53",
   "metadata": {},
   "source": [
    "# 1. 客服聊天机器人"
   ]
  },
  {
   "cell_type": "markdown",
   "id": "c7f9aef3-c319-49d2-a343-3b8a00d2c6a3",
   "metadata": {},
   "source": [
    "-  本文档会指导你使用LangGraph搭建一个客服聊天机器人\n",
    "    - 通过搜索网页回答通用问题\n",
    "    - 在多次调用中保持交谈状态\n",
    "    - 将复杂问题交给人工审核\n",
    "    - 使用自定义的状态来控制其行为\n",
    "    - 倒回并探索不同的对话路径\n",
    "- 接下来开始创建一个基础的聊天机器人，然后一步步添加高级功能，在这个过程中介绍LangGraph的核心概念。"
   ]
  },
  {
   "cell_type": "markdown",
   "id": "711d7937-4a59-406f-9c81-1e3dd711f64a",
   "metadata": {},
   "source": [
    "# 2.环境设置\n",
    "- 2.1首先安装需求的库并配置你的环境："
   ]
  },
  {
   "cell_type": "code",
   "execution_count": 3,
   "id": "ddd0ff3e-75da-438f-94f1-924c6f28f9a1",
   "metadata": {},
   "outputs": [],
   "source": [
    "%%capture --no-stderr\n",
    "%pip install -U langgraph langsmith langchain_anthropic"
   ]
  },
  {
   "cell_type": "markdown",
   "id": "0ddf9703-4c06-4f25-83e1-b3b8693beb86",
   "metadata": {},
   "source": [
    "**代码解释**\n",
    "- %%capture --no-stderr 是一个在 Jupyter Notebook 或 IPython 环境中使用的魔法命令（magic command），它的作用是捕获代码单元的输出并将其存储起来，而不是直接显示在屏幕上。--no-stderr 是一个选项，具体含义是阻止标准错误（stderr）输出被捕获或显示。"
   ]
  },
  {
   "cell_type": "markdown",
   "id": "b47a16fd-23e7-4346-a5ad-0ceb564f0eb5",
   "metadata": {},
   "source": [
    "- 2.2 配置LangSmith\n",
    "    - LangSmith可以帮助监控整体流程中的各个环节，方便后续跟踪数据流来debug。"
   ]
  },
  {
   "cell_type": "markdown",
   "id": "bc15656a-ee0a-4627-83e0-ae04ad6a8bea",
   "metadata": {},
   "source": [
    "# 3. 创建一个基础的聊天机器人"
   ]
  },
  {
   "cell_type": "markdown",
   "id": "18f6b633-482c-4a41-8f85-0e50f9e2ef29",
   "metadata": {},
   "source": [
    "## 定义基础的状态State，同时创建流程图实例\n",
    "- 聊天机器人的核心是对State状态的管理，从用户输入问题开始，这个问题每一次和大模型的交互过程都会有新的结果产生，我们将每一步的结果都存储到这个State中来管理交互流程，这样能够实现记忆存储、工具调用等的复杂功能。"
   ]
  },
  {
   "cell_type": "code",
   "execution_count": 1,
   "id": "5b6b28cd-1be1-4659-9d82-5745e8798795",
   "metadata": {},
   "outputs": [],
   "source": [
    "from typing import Annotated\n",
    "# 它的主要作用是为类型注解添加额外的元数据（metadata）。\n",
    "# 但不会改变类型的本质，但可以被工具（如静态类型检查器、库或运行时逻辑）用来处理附加信息。\n",
    "\n",
    "from typing_extensions import TypedDict \n",
    "# TypedDict 是用于定义字典类型的工具，允许你指定字典的键和值的类型。\n",
    "# 继承 TypedDict 是为了让类型检查器理解 State 的结构\n",
    "\n",
    "from langgraph.graph import StateGraph, START, END\n",
    "\n",
    "from langgraph.graph.message import add_messages\n",
    "\n",
    "class State(TypedDict):\n",
    "    # TypedDict 被用来定义状态 State，确保它是一个类型安全的字典。\n",
    "    \n",
    "    messages: Annotated[list, add_messages]\n",
    "    # Messages作为State的键，其值是“List”类型。\n",
    "    # add_messages 是 Annotated 的第二个参数，作为元数据，告诉 langgraph 在更新 messages 时，使用 add_messages 函数。\n",
    "    # add_messages 的具体作用是追加新消息到现有列表，而不是覆盖。\n",
    "\n",
    "graph_builder = StateGraph(State)\n",
    "# StateGraph 是 langgraph 库中的一个类，用于构建和管理状态图（state graph）。\n",
    "# StateGraph 的作用是让你定义一个状态机或工作流，跟踪和管理状态的变化，通常用于对话系统、任务流处理等场景。\n",
    "# graph_builder 是一个构建器对象，之后可以通过它添加节点（nodes）和边（edges）来定义流程。\n",
    "# 这表示状态图的状态将由 State 定义，即状态图的每个节点或步骤都会维护一个 State 类型的字典（目前只有 messages 字段）。\n",
    "\n"
   ]
  },
  {
   "cell_type": "markdown",
   "id": "a0bfd73f-c1a6-4644-b41f-1a26a3d3034e",
   "metadata": {},
   "source": [
    "## 配置DeepSeek"
   ]
  },
  {
   "cell_type": "code",
   "execution_count": 2,
   "id": "8b7d5fc1-a437-462c-be91-5e34ca1ed3a9",
   "metadata": {
    "tags": []
   },
   "outputs": [
    {
     "name": "stdin",
     "output_type": "stream",
     "text": [
      "Enter your DeepSeek API key:  ········\n"
     ]
    }
   ],
   "source": [
    "import getpass\n",
    "import os  \n",
    "# 前置需要进入deepseek官网注册并生成API_KEY，记得保存好，否则丢失后需要重新生成。\n",
    "# 这一行检查程序是否已经有 Deepseek API 密钥。如果没有，就需要用户手动输入。\n",
    "if not os.getenv(\"DEEPSEEK_API_KEY\"):\n",
    "    os.environ[\"DEEPSEEK_API_KEY\"] = getpass.getpass(\"Enter your DeepSeek API key: \")\n",
    "    \n",
    "# 配置接口参数，创建语言模型的实例\n",
    "from langchain_deepseek import ChatDeepSeek\n",
    "\n",
    "llm = ChatDeepSeek(\n",
    "    model=\"deepseek-chat\",  # 指定使用的模型\n",
    "    temperature=0,  # 控制生成文本的随机性\n",
    "    max_tokens=None,  # 生成的最大 token 数限制\n",
    "    timeout=None,  # 请求超时时间\n",
    "    max_retries=2, # 请求失败时的最大重试次数\n",
    "    # other params...\n",
    ")"
   ]
  },
  {
   "cell_type": "markdown",
   "id": "2c85a4c4-fb7d-4f36-acdb-5c73f1103887",
   "metadata": {},
   "source": [
    "## 创建第一个节点，并将节点添加到上面创建的流程图中"
   ]
  },
  {
   "cell_type": "code",
   "execution_count": 3,
   "id": "c780e458-f436-4904-b7bb-91e5b29a03b1",
   "metadata": {},
   "outputs": [
    {
     "data": {
      "text/plain": [
       "<langgraph.graph.state.StateGraph at 0x7fb7484e2eb0>"
      ]
     },
     "execution_count": 3,
     "metadata": {},
     "output_type": "execute_result"
    }
   ],
   "source": [
    "def chatbot(state: State):\n",
    "    # 参数 state 是状态图的当前状态，类型是之前定义的 State（一个 TypedDict）。\n",
    "\n",
    "    return {\"messages\": [llm.invoke(state[\"messages\"])]}\n",
    "# 这个函数的作用是接收当前的消息历史，调用 Anthropic 的 Claude 模型生成回复，并将回复作为新消息返回。\n",
    "\n",
    "graph_builder.add_node(\"chatbot\", chatbot)\n",
    "# graph_builder 是之前创建的 StateGraph 实例，用于构建状态图。\n",
    "# 将一个节点添加到状态图中。\n",
    "# 第一个参数 \"chatbot\"：节点的唯一名称，用字符串表示。这个名称用来标识节点，之后可以用它定义边。\n",
    "# 第二个参数 chatbot：节点对应的处理函数，也就是上面定义的 chatbot 函数。每当状态图执行到这个节点时，就会调用 chatbot 函数。\n",
    "\n"
   ]
  },
  {
   "cell_type": "markdown",
   "id": "7776077a-127a-4ec3-be51-8f3d7a9807de",
   "metadata": {},
   "source": [
    "## 为流程图添加边edge，边是流程图的流转逻辑"
   ]
  },
  {
   "cell_type": "code",
   "execution_count": 4,
   "id": "2a23d485-cad1-477c-a2f0-f2318f1d121e",
   "metadata": {},
   "outputs": [
    {
     "data": {
      "text/plain": [
       "<langgraph.graph.state.StateGraph at 0x7fb7484e2eb0>"
      ]
     },
     "execution_count": 4,
     "metadata": {},
     "output_type": "execute_result"
    }
   ],
   "source": [
    "graph_builder.add_edge(START, \"chatbot\")\n",
    "# 在状态图中添加一条边（edge），定义了一个流转规则。\n",
    "# START：一个特殊标志，表示状态图的起点（entry point）。\n",
    "# 效果：这条边指定状态图从起点（START）开始后，直接跳转到 \"chatbot\" 节点。"
   ]
  },
  {
   "cell_type": "code",
   "execution_count": 5,
   "id": "14412804-3f01-4ebe-bb1f-222676e04ae2",
   "metadata": {},
   "outputs": [
    {
     "data": {
      "text/plain": [
       "<langgraph.graph.state.StateGraph at 0x7fb7484e2eb0>"
      ]
     },
     "execution_count": 5,
     "metadata": {},
     "output_type": "execute_result"
    }
   ],
   "source": [
    "graph_builder.add_edge(\"chatbot\", END)\n",
    "# 效果：这条边指定状态图在执行完 \"chatbot\" 节点后，跳转到结束点 END，表示流程终止。"
   ]
  },
  {
   "cell_type": "markdown",
   "id": "4beb6ee1-fe9e-44b3-8207-9d0604c23d87",
   "metadata": {},
   "source": [
    "## 讲流程图编译成一个可用的对象\n",
    "- 上面的代码类似于先搭建一个框架graph_builder,然后按照框架的要求添加了需要的节点和运行逻辑，这一步就是把上面配置好的内容启动起来，变成了一个可运行的对象，当被调用的时候，就按照以上的设置运行。"
   ]
  },
  {
   "cell_type": "code",
   "execution_count": 6,
   "id": "9c34a165-5825-4736-a75e-89fe7c6d2fbf",
   "metadata": {},
   "outputs": [],
   "source": [
    "graph = graph_builder.compile()\n",
    "# .compile()：将 graph_builder 的定义编译成一个可用的状态图对象。"
   ]
  },
  {
   "cell_type": "markdown",
   "id": "fd6f2c53-605c-4e45-90cb-e033c46cbcca",
   "metadata": {},
   "source": [
    "## 可视化上面搭建好的流程图"
   ]
  },
  {
   "cell_type": "code",
   "execution_count": 7,
   "id": "e9c87fe3-991b-4f0d-8d4e-41b8c78c349b",
   "metadata": {},
   "outputs": [
    {
     "data": {
      "image/png": "[encoded data removed]",
      "text/plain": [
       "<IPython.core.display.Image object>"
      ]
     },
     "metadata": {},
     "output_type": "display_data"
    }
   ],
   "source": [
    "from IPython.display import Image, display\n",
    "\n",
    "try:\n",
    "    display(Image(graph.get_graph().draw_mermaid_png()))\n",
    "    # graph：假设 graph 是之前通过 graph_builder.compile() 创建的状态图对象（类型可能是 CompiledStateGraph）。\n",
    "    # graph.get_graph()：调用 graph 对象的 get_graph 方法，返回一个表示状态图的内部结构（可能是节点和边的抽象表示）。\n",
    "        # 这是 langgraph 提供的功能，用于访问图的逻辑结构。\n",
    "    # draw_mermaid_png()：将图结构转换为 Mermaid 图表格式（Mermaid 是一种文本定义流程图的语言），并生成 PNG 图像。\n",
    "    # 返回值是一个字节流（bytes），表示 PNG 图片。\n",
    "    # Image(...)：将 PNG 字节流包装成一个 IPython.display.Image 对象，准备显示。\n",
    "    # display(...)：在 IPython 环境中渲染这个图像，显示状态图的可视化。\n",
    "\n",
    "except Exception:\n",
    "    # 如果 try 块中的代码出错（比如 get_graph 不存在、draw_mermaid_png 失败，或环境不支持图像显示），捕获所有异常（Exception）。\n",
    "\n",
    "    pass\n",
    "    # 如果发生异常，什么也不做，静默跳过。\n",
    "    # 这是为了避免程序因可视化失败而中断，适合在调试或非必要场景中使用。\n",
    "    \n",
    "# 将状态图（比如 START -> \"chatbot\" -> END）画成流程图，直观展示节点和边的关系。"
   ]
  },
  {
   "cell_type": "markdown",
   "id": "ff7a1776-744b-4afb-8289-2550f1856bfc",
   "metadata": {},
   "source": [
    "## 实际使用,单词调用，输入Hello，并得到返回值"
   ]
  },
  {
   "cell_type": "code",
   "execution_count": 8,
   "id": "3b75595d-ee80-4d9b-848b-d77438fde674",
   "metadata": {},
   "outputs": [
    {
     "name": "stdout",
     "output_type": "stream",
     "text": [
      "Assistant: Hello! 😊 How can I assist you today?\n"
     ]
    }
   ],
   "source": [
    "def stream_graph_updates(user_input: str):\n",
    "    for event in graph.stream({\"messages\":[{\"role\": \"user\", \"content\": user_input}]}):\n",
    "        for value in event.values():\n",
    "            print(\"Assistant:\", value[\"messages\"][-1].content)\n",
    "    \n",
    "stream_graph_updates(\"Hello\")"
   ]
  },
  {
   "cell_type": "markdown",
   "id": "0b358afc-02bb-4058-801b-7f7608af814d",
   "metadata": {},
   "source": [
    "## 使用循环语句来调用，达到和机器人聊天的目的\n",
    "- 这样调用AI接口，AI不具备记忆能力，没办法记忆上下文，后续的部分会讲到如何为机器人添加记忆能力"
   ]
  },
  {
   "cell_type": "code",
   "execution_count": 9,
   "id": "66968278-6893-4497-8828-c303a940f861",
   "metadata": {},
   "outputs": [
    {
     "name": "stdin",
     "output_type": "stream",
     "text": [
      "User:  你好\n"
     ]
    },
    {
     "name": "stdout",
     "output_type": "stream",
     "text": [
      "Assistant: 你好！😊 很高兴见到你～有什么我可以帮你的吗？\n"
     ]
    },
    {
     "name": "stdin",
     "output_type": "stream",
     "text": [
      "User:  我是vincent\n"
     ]
    },
    {
     "name": "stdout",
     "output_type": "stream",
     "text": [
      "Assistant: 你好，Vincent！👋 很高兴认识你～我是DeepSeek Chat，可以帮你解答问题、聊天或者提供各种建议。有什么我可以帮你的吗？😊\n"
     ]
    },
    {
     "name": "stdin",
     "output_type": "stream",
     "text": [
      "User:  你还认识我吗\n"
     ]
    },
    {
     "name": "stdout",
     "output_type": "stream",
     "text": [
      "Assistant: 当然记得！虽然我们的对话是匿名的，但每次交流我都会尽力保持上下文连贯。如果你之前和我聊过，可以提醒我一些之前的对话细节，我会更好地衔接起来哦～ 😊  \n",
      "\n",
      "有什么我可以帮你的吗？\n"
     ]
    },
    {
     "name": "stdin",
     "output_type": "stream",
     "text": [
      "User:  你知道我叫什么吗\n"
     ]
    },
    {
     "name": "stdout",
     "output_type": "stream",
     "text": [
      "Assistant: 目前我还不知道你的名字，但如果你愿意告诉我，我会记住并在我们的对话中使用它！😊 你可以直接告诉我你的名字，或者任何你喜欢的称呼～\n"
     ]
    },
    {
     "name": "stdin",
     "output_type": "stream",
     "text": [
      "User:  你记得我刚才和你说什么了嘛\n"
     ]
    },
    {
     "name": "stdout",
     "output_type": "stream",
     "text": [
      "Assistant: 作为AI助手，我无法记住之前的对话内容。每次新的提问我都会视为独立的新对话，不会保留您的历史聊天记录。  \n",
      "\n",
      "如果您需要我参考之前的内容，可以重新提供相关信息，我会根据您这次输入的内容尽力协助您！😊  \n",
      "\n",
      "（这是为了保护用户隐私而设计的，所有对话内容在处理后会立即丢弃）\n"
     ]
    },
    {
     "name": "stdin",
     "output_type": "stream",
     "text": [
      "User:  quit\n"
     ]
    },
    {
     "name": "stdout",
     "output_type": "stream",
     "text": [
      "Goodbye!\n"
     ]
    }
   ],
   "source": [
    "while True:    \n",
    "    try:\n",
    "        user_input = input(\"User: \")\n",
    "        if user_input.lower() in [\"quit\", \"exit\", \"q\"]:\n",
    "            print(\"Goodbye!\")\n",
    "            break\n",
    "        \n",
    "        stream_graph_updates(user_input)\n",
    "    except:\n",
    "        user_input = \"What do you know about LangGraph?\"\n",
    "        print(\"User:\" + user_input)\n",
    "        stream_graph_updates(user_input)\n",
    "        break"
   ]
  },
  {
   "cell_type": "markdown",
   "id": "e493805f-e549-4b02-bd51-e189f79e246d",
   "metadata": {},
   "source": [
    "# 4. 使用工具来增强聊天机器人"
   ]
  },
  {
   "cell_type": "code",
   "execution_count": 8,
   "id": "b11721f7-9dbe-48fb-b6cd-96e1926590a5",
   "metadata": {},
   "outputs": [],
   "source": [
    "%%capture --no-stderr\n",
    "%pip install -U tavily-python langchain_community\n",
    "# travily 是一个 Python 库，用于调用 Tavily 搜索引擎 API。\n",
    "# 目的是为 AI 提供实时、准确的外部知识。"
   ]
  },
  {
   "cell_type": "markdown",
   "id": "3fd9159f-a2cf-4759-ad1b-5dc2b2fa952e",
   "metadata": {},
   "source": [
    "## 配置搜索工具密钥\n",
    "- TAVILY 一个专为AI设计的搜索引擎，方便大模型进行网页内容搜索，有免费额度，一般测试学习够用了。"
   ]
  },
  {
   "cell_type": "code",
   "execution_count": 10,
   "id": "ad29315b-117e-466c-86fb-5a3c9b9623da",
   "metadata": {},
   "outputs": [],
   "source": [
    "import getpass\n",
    "import os  \n",
    "\n",
    "def _set_env(var: str):\n",
    "    if not os.environ.get(var):\n",
    "        os.environ[var] = getpass.getpass(f\"{var}: \")\n",
    "\n",
    "_set_env(\"TAVILY_API_KEY\")\n",
    "# 设置密钥环境变量"
   ]
  },
  {
   "cell_type": "markdown",
   "id": "a89479d0-23eb-4e33-9440-9e11f70f17ca",
   "metadata": {},
   "source": [
    "## 加载AI搜索引擎并创建实例"
   ]
  },
  {
   "cell_type": "code",
   "execution_count": 3,
   "id": "1eae566d-256a-46fa-b7a8-e39632870928",
   "metadata": {},
   "outputs": [
    {
     "data": {
      "text/plain": [
       "[{'title': 'What Is LangGraph and How to Use It? - DataCamp',\n",
       "  'url': 'https://www.datacamp.com/tutorial/langgraph-tutorial',\n",
       "  'content': 'To install LangGraph, you can use pip:\\npip install -U langgraph\\nBasic Concepts\\nNodes: Nodes represent units of work within your LangGraph. They are typically Python functions that perform a specific task, such as: [...] Imagine your application as a directed graph. In LangGraph, each node represents an LLM agent, and the edges are the communication channels between these agents. This structure allows for clear and manageable workflows, where each agent performs specific tasks and passes information to other agents as needed.\\nState management',\n",
       "  'score': 0.8401640232422587},\n",
       " {'title': 'A Comprehensive Guide About Langgraph: Code Included - Ionio',\n",
       "  'url': 'https://www.ionio.ai/blog/a-comprehensive-guide-about-langgraph-code-included',\n",
       "  'content': 'Now let’s take a look at each component of langgraph in detail 🚀\\nNodes\\nA node can be any function or tool your agent uses in langgraph and these nodes are connected with other nodes using edges. Every workflow ends with a “END” node in langgraph which shows the end of workflow. You also need to define a starting node which will be the starting point of your workflow. Optionally, you can also define an ending node if you know the ending point of your workflow. [...] Workflow Automation: \\xa0LangGraph can automate complex workflows that involve multiple steps and decision points. By defining the steps as nodes in the graph and the decision logic as edges, LangGraph can handle complex tasks easily. Langgraph can also make complex RAG systems easy to visualize and implement.',\n",
       "  'score': 0.8123691887067395}]"
      ]
     },
     "execution_count": 3,
     "metadata": {},
     "output_type": "execute_result"
    }
   ],
   "source": [
    "from langchain_community.tools.tavily_search import TavilySearchResults\n",
    "\n",
    "tool = TavilySearchResults(max_results=2)\n",
    "# 创建 TavilySearchResults 工具的实例。\n",
    "tools = [tool]\n",
    "tool.invoke(\"What's a 'node' in LangGraph?\")\n",
    "# 调用创建好的工具，进行搜索，以下是答案"
   ]
  },
  {
   "cell_type": "markdown",
   "id": "e7217991-e959-4af5-b62f-16428304ba3d",
   "metadata": {},
   "source": [
    "***代码解释***"
   ]
  },
  {
   "cell_type": "markdown",
   "id": "fcd8298f-2c11-457e-8fbf-3f5b10d458cc",
   "metadata": {},
   "source": [
    "## 第一部分的内容，创建一个聊天机器人"
   ]
  },
  {
   "cell_type": "code",
   "execution_count": 4,
   "id": "3c3d146e-230b-4a34-91ff-921d1ce3a53b",
   "metadata": {},
   "outputs": [
    {
     "name": "stdin",
     "output_type": "stream",
     "text": [
      "Enter your DeepSeek API key:  ········\n"
     ]
    },
    {
     "data": {
      "text/plain": [
       "<langgraph.graph.state.StateGraph at 0x7fd582b9b040>"
      ]
     },
     "execution_count": 4,
     "metadata": {},
     "output_type": "execute_result"
    }
   ],
   "source": [
    "# --------------------安装库\n",
    "\n",
    "from typing import Annotated\n",
    "\n",
    "from typing_extensions import TypedDict\n",
    "\n",
    "from langgraph.graph import StateGraph, START, END\n",
    "from langgraph.graph.message import add_messages\n",
    "\n",
    "# --------------------定义消息流程初始状态\n",
    "class State(TypedDict):\n",
    "    messages: Annotated[list, add_messages]\n",
    "    \n",
    "# --------------------创建LangGraph流程图实例\n",
    "graph_builder = StateGraph(State)\n",
    "\n",
    "# --------------------创建DeepSeek大语言模型实例\n",
    "if not os.getenv(\"DEEPSEEK_API_KEY\"):\n",
    "    os.environ[\"DEEPSEEK_API_KEY\"] = getpass.getpass(\"Enter your DeepSeek API key: \")\n",
    "    \n",
    "from langchain_deepseek import ChatDeepSeek\n",
    "\n",
    "llm = ChatDeepSeek(\n",
    "    model=\"deepseek-chat\",  # 指定使用的模型\n",
    "    temperature=0,  # 控制生成文本的随机性\n",
    "    max_tokens=None,  # 生成的最大 token 数限制\n",
    "    timeout=None,  # 请求超时时间\n",
    "    max_retries=2, # 请求失败时的最大重试次数\n",
    "    # other params...\n",
    ")\n",
    "\n",
    "# --------------------为语言模型绑定上面创建好的搜索工具\n",
    "llm_with_tools = llm.bind_tools(tools)\n",
    "    # 会和上下文一起传给大语言模型，让大语言模型知道有什么工具可以使用\n",
    "\n",
    "# --------------------创建一个节点，节点为大语言模型及搜索引擎调用\n",
    "def chatbot(state: State):\n",
    "    return {\"messages\": [llm_with_tools.invoke(state[\"messages\"])]}\n",
    "\n",
    "# --------------------为流程图添加节点，节点名称为\"chatbot\"\n",
    "graph_builder.add_node(\"chatbot\", chatbot)"
   ]
  },
  {
   "cell_type": "markdown",
   "id": "d4bbf7fb-5b7f-4c55-bbdb-80bef107bd54",
   "metadata": {},
   "source": [
    "## 创建工具节点\n",
    "1. 将搜索引擎封装到一个工具节点对象中，这样方便嵌入到流程图中进行调用\n",
    "2. 封装逻辑\n",
    "    1. 当被调用的时候，需要接收State字典作为参数\n",
    "    2. 拿到State字典的最后一个消息\n",
    "    3. 取出最后一个消息的tool_calls内容\n",
    "    4. tool_calls包含了大模型返回的需要调用的工具名称和参数，是一个字典列表\n",
    "    5. 将返回的工具名称传递给工具名称薄，拿到对应的实例后传入AI给的参数进行调用，然后拿到最终结果\n",
    "    6. 将最终结果添加到定义好的outputs列表中\n",
    "    7. 重复几次将结果全部工具结果添加到toolmessage中即完成此步骤\n",
    "3. 将封装好的工具调用节点放入到流程图的流程中"
   ]
  },
  {
   "cell_type": "code",
   "execution_count": 5,
   "id": "9aef415c-a109-435a-956f-84bd1960c41f",
   "metadata": {},
   "outputs": [
    {
     "data": {
      "text/plain": [
       "<langgraph.graph.state.StateGraph at 0x7fd582b9b040>"
      ]
     },
     "execution_count": 5,
     "metadata": {},
     "output_type": "execute_result"
    }
   ],
   "source": [
    "import json\n",
    "\n",
    "from langchain_core.messages import ToolMessage\n",
    "\n",
    "\n",
    "class BasicToolNode:\n",
    "    \"\"\"A node that runs the tools requested in the last AIMessage.\"\"\"\n",
    "\n",
    "    def __init__(self, tools: list) -> None:\n",
    "        self.tools_by_name = {tool.name: tool for tool in tools}\n",
    "        \n",
    "# __init__：是 Python 类（class）中的一个特殊函数，叫做“构造函数”或“初始化函数”。\n",
    "# 当你创建一个新的对象时，Python 会自动调用 __init__ 来设置这个对象的初始状态。\n",
    "# 简单说：__init__ 就像是给一个新玩具装电池，让它准备好工作。\n",
    "# self：是 Python 类中的一个惯例，表示“当前对象自己”。\n",
    "    # 比如你创建了一个 BasicToolNode 对象，self 就代表这个对象本身。\n",
    "    # 它是一个占位符，Python 自动传入，不需要你手动提供。\n",
    "    # 举例：如果你用 tool_node = BasicToolNode(tools) 创建对象，self 就是 tool_node。\n",
    "# tools: list：tools 是一个参数，表示你要传给这个对象的东西。\n",
    "    # 简单说：tools 是你给这个新玩具的“配件清单”，告诉它可以用哪些工具。\n",
    "# -> None：这是函数的返回类型提示，表示这个函数“不会返回任何东西”。\n",
    "    # __init__ 的作用是初始化对象，不是为了返回结果，所以用 -> None 表示它不返回任何值。\n",
    "# 为什么这样写？\n",
    "    # 这是 Python 的现代写法（从 Python 3.5 开始支持），帮助程序员和工具（比如 VS Code）理解代码意图。\n",
    "\n",
    "# self.tools_by_name：\n",
    "    # self 是当前对象，tools_by_name 是这个对象的一个属性（就像给对象贴了个标签）。\n",
    "    # 这行代码给对象添加了一个新属性，叫做 tools_by_name。\n",
    "    # 当你给对象“添加一个属性”时，就是在这个具体东西上贴了一个标签，标签上可以写一些信息。\n",
    "\n",
    "# {tool.name: tool for tool in tools}：\n",
    "    # 这是一个字典推导式（dictionary comprehension），用来创建字典。\n",
    "    # 分解：tools（上面代码有定义过）：传入的工具列表，比如 [tool1, tool2]。\n",
    "    # for tool in tools：循环遍历列表中的每个工具。\n",
    "    # tool.name：每个工具的名称（name 是工具对象的一个属性）。tool：工具对象本身。\n",
    "    # 结果：创建一个字典，键是工具名称，值是工具对象。\n",
    "    # 举个例子：\n",
    "    # 假设 tools = [TavilySearchResults()]：\n",
    "    # tool 是 TavilySearchResults 对象。\n",
    "    # tool.name 是 \"tavily_search_results_json\"（由 TavilySearchResults 定义）。\n",
    "\n",
    "# 简单说：这行代码把工具按名字整理成一个“电话簿”，方便以后通过名字找到工具。\n",
    "\n",
    "    def __call__(self, inputs: dict):\n",
    "        if messages := inputs.get(\"messages\", []):\n",
    "            message = messages[-1]\n",
    "# __call__ 方法接收的 inputs 是当前状态的快照，通常是一个字典，符合 State 的结构。\n",
    "    # 当你定义了 __call__，这个类的实例就可以像函数一样被调用。\n",
    "    # 但需要先进行实例化并赋值给变量再进行调用\n",
    "    # 可以通过BasicToolNode()来实例化类，然后赋值\n",
    "# dict.get(key, default) 的作用是从字典中获取指定键（key）对应的值。\n",
    "    # 如果键不存在，它会返回默认值（default），而不是抛出 KeyError 异常。\n",
    "    # 直接用 inputs[\"messages\"] 要求字典中必须有 \"messages\" 这个键，否则会报错（KeyError）。\n",
    "# \":=\" 是 Python 3.8 引入的“海象运算符”（Walrus Operator），全称是赋值表达式（assignment expression）。\n",
    "    # 语法: 变量 := 表达式，一边赋值一边返回结果。\n",
    "    # 好处: 避免了单独写一行 messages = inputs.get(\"messages\", [])，让代码更简洁。\n",
    "# 如果拿到的状态字典不为空，就更新messages，通过add_messages功能在原状态上增加新的信息\n",
    "    # message = messages[-1]：取消息列表的最后一个消息。\n",
    "\n",
    "        else:\n",
    "            raise ValueError(\"No message found in input\")\n",
    "# raise 是 Python 中的一个关键字，用于抛出（引发）异常。\n",
    "# 创建异常 → 抛出 → 中断执行 → 寻找 try-except 或终止程序。\n",
    "            \n",
    "        outputs = []\n",
    "# 含义：初始化一个空列表 outputs，用于存储工具调用的结果。\n",
    "# 作用：后续会将每个工具执行的结果（封装为 ToolMessage 对象）追加到这个列表中，最终作为节点的输出返回。\n",
    "\n",
    "        for tool_call in message.tool_calls:\n",
    "# 含义：遍历 message.tool_calls 中的每一个工具调用请求。\n",
    "# .tool_calls:前面给大模型绑定了tools，llm.bind_tools(tools)\n",
    "    # tool_calls 是大模型输出的需要调用的工具的基本信息，是一个字典列表\n",
    "    # 通常包含：\"name\": 工具的名称（字符串）。\"args\": 工具的参数（字典）。\"id\": 工具调用的唯一标识符（字符串）。\n",
    "    \n",
    "            tool_result = self.tools_by_name[tool_call[\"name\"]].invoke(\n",
    "                tool_call[\"args\"]\n",
    "            )\n",
    "    # tool_call 是工具的信息，在这里拿到工具名称,语法：tool_call[\"name\"]\n",
    "        # 再根据定义好的工具薄拿到模型对象进行调用，将结果赋值给tool_result\n",
    "            # 将该tool_call的args传给invoke函数作为参数\n",
    "            \n",
    "            outputs.append(\n",
    "                ToolMessage(\n",
    "                    content=json.dumps(tool_result),\n",
    "                    name=tool_call[\"name\"],\n",
    "                    tool_call_id=tool_call[\"id\"],\n",
    "                )\n",
    "            )\n",
    "        # 含义：将工具执行结果封装成一个 ToolMessage 对象，并追加到 outputs 列表中。\n",
    "        # ToolMessage 是 langchain_core.messages 模块中的一个类，表示工具调用的响应消息。\n",
    "            # 它通常用于 LangChain 的消息系统中，记录工具的执行结果。\n",
    "            # 构造函数接受几个关键参数：content，name，tool_call_id\n",
    "        # json.dumps(tool_result)：将 tool_result（工具的返回结果）转换为 JSON 字符串。\n",
    "   \n",
    "        return {\"messages\": outputs}\n",
    "    # 含义：返回一个字典，键是 \"messages\"，值是 outputs 列表。\n",
    "    # outputs是一个列表，内容有ToolMessage对象组成\n",
    "    # 作用：在 LangGraph 中，节点函数通常返回一个状态更新。这里更新了messages，将工具调用结果添加到了列表里。\n",
    "\n",
    "\n",
    "tool_node = BasicToolNode(tools=[tool])\n",
    "# 为什么不直接使用定义好的tools？ tools=[tool] 是显式传递，等价于直接用全局 tools，只是风格选择。\n",
    "\n",
    "graph_builder.add_node(\"tools\", tool_node)"
   ]
  },
  {
   "cell_type": "markdown",
   "id": "7acdfab5-1521-4c38-8019-ebae8b7e6609",
   "metadata": {},
   "source": [
    "## 定义条件逻辑\n",
    "- 这部分的核心是，上面添加edge流转逻辑的时候，都是固定的逻辑。这里通过设置条件来使得流转逻辑可以根据state的具体状态来判断下一个节点的执行顺序\n",
    "- 比如这里的主要逻辑就是，在聊天机器人节点中如果ai返回的信息中不包含tool的调用信息则不调用工具节点，直接结束，如果检查到有调用工具请求，则执行工具调用节点。 "
   ]
  },
  {
   "cell_type": "code",
   "execution_count": 6,
   "id": "3cac791b-ba47-4b95-a021-e9aabe4a4201",
   "metadata": {},
   "outputs": [],
   "source": [
    "def route_tools(\n",
    "    state: State,\n",
    "):\n",
    "    \"\"\"\n",
    "    Use in the conditional_edge to route to the ToolNode if the last message\n",
    "    has tool calls. Otherwise, route to the end.\n",
    "    \"\"\"\n",
    "    if isinstance(state, list):\n",
    "        ai_message = state[-1]\n",
    "        # isinstance(object, type) 是 Python 的内置函数，用于检查一个对象是否是指定类型的实例。\n",
    "        # 检查state是否是一个list类型的实例\n",
    "    elif messages := state.get(\"messages\", []):\n",
    "        ai_message = messages[-1]\n",
    "    else:\n",
    "        raise ValueError(f\"No messages found in input state to tool_edge: {state}\")\n",
    "    if hasattr(ai_message, \"tool_calls\") and len(ai_message.tool_calls) > 0:\n",
    "        return \"tools\"\n",
    "        # hasattr(object, name) 是 Python 的内置函数，用于检查一个对象是否具有指定属性（name 是字符串）。\n",
    "        # 检查ai_message是否具有\"tool_calls\"这个属性\n",
    "    return END\n",
    "\n",
    "\n",
    "# The `tools_condition` function returns \"tools\" if the chatbot asks to use a tool, and \"END\" if\n",
    "# it is fine directly responding. This conditional routing defines the main agent loop.\n",
    "graph_builder.add_conditional_edges(\n",
    "    \"chatbot\", # 源节点名称\n",
    "    route_tools, # 条件函数，返回一个值\n",
    "    {\"tools\": \"tools\", END: END}, # 映射字典，将条件返回值映射到目标节点\n",
    "# \"tools\": \"tools\"：如果 route_tools 返回 \"tools\"，跳转到 \"tools\" 节点。\n",
    "# END: END：如果 route_tools 返回 END，跳转到 END（流程结束）。\n",
    ")\n",
    "# Any time a tool is called, we return to the chatbot to decide the next step\n",
    "graph_builder.add_edge(\"tools\", \"chatbot\")\n",
    "graph_builder.add_edge(START, \"chatbot\")\n",
    "graph = graph_builder.compile()\n",
    "# 定义流程图的逻辑，开始流程后，先调用\"chatbot\"\n",
    "# 拿到大语言模型更新后的State之后调用工具，拿到内容\n",
    "# 然后再调用\"chatbot\",根据初始提示词和工具调用结果生成最终结果\n",
    "\n",
    "# graph_builder 是一个StateGraph对象"
   ]
  },
  {
   "cell_type": "markdown",
   "id": "7cc14fd9-e7bf-4511-9117-e33f0d2d68dd",
   "metadata": {},
   "source": [
    "## 画出逻辑图"
   ]
  },
  {
   "cell_type": "code",
   "execution_count": 7,
   "id": "0e12dd44-d2f1-4951-8150-eb7733401bf3",
   "metadata": {},
   "outputs": [
    {
     "data": {
      "image/png": "[encoded data removed]",
      "text/plain": [
       "<IPython.core.display.Image object>"
      ]
     },
     "metadata": {},
     "output_type": "display_data"
    }
   ],
   "source": [
    "from IPython.display import Image, display\n",
    "\n",
    "try:\n",
    "    display(Image(graph.get_graph().draw_mermaid_png()))\n",
    "except Exception:\n",
    "    # This requires some extra dependencies and is optional\n",
    "    pass"
   ]
  },
  {
   "cell_type": "markdown",
   "id": "bfc21c94-aea6-44dc-b6e0-67f231b25f01",
   "metadata": {},
   "source": [
    "## 使用机器人的工具调用功能"
   ]
  },
  {
   "cell_type": "code",
   "execution_count": 12,
   "id": "1864a522-ffd7-45eb-8dae-39118516da2d",
   "metadata": {},
   "outputs": [
    {
     "name": "stdin",
     "output_type": "stream",
     "text": [
      "User:  你好\n"
     ]
    },
    {
     "name": "stdout",
     "output_type": "stream",
     "text": [
      "Assistant: 你好！请问有什么我可以帮助你的吗？\n"
     ]
    },
    {
     "name": "stdin",
     "output_type": "stream",
     "text": [
      "User:  quit\n"
     ]
    },
    {
     "name": "stdout",
     "output_type": "stream",
     "text": [
      "Goodbye!\n"
     ]
    }
   ],
   "source": [
    "def stream_graph_updates(user_input: str):\n",
    "    for event in graph.stream({\"messages\": [{\"role\": \"user\", \"content\": user_input}]}):\n",
    "        for value in event.values():\n",
    "            print(\"Assistant:\", value[\"messages\"][-1].content)\n",
    "            \n",
    "while True:\n",
    "    try:\n",
    "        user_input = input(\"User: \")\n",
    "        if user_input.lower() in [\"quit\", \"exit\", \"q\"]:\n",
    "            print(\"Goodbye!\")\n",
    "            break\n",
    "\n",
    "        stream_graph_updates(user_input)\n",
    "    except:\n",
    "        # fallback if input() is not available\n",
    "        user_input = \"What do you know about LangGraph?\"\n",
    "        print(\"User: \" + user_input)\n",
    "        stream_graph_updates(user_input)\n",
    "        break"
   ]
  },
  {
   "cell_type": "markdown",
   "id": "e82b0a9f-dc3c-4d4c-a882-885bab09dc02",
   "metadata": {},
   "source": [
    "# 5.为聊天机器人添加记忆"
   ]
  },
  {
   "cell_type": "markdown",
   "id": "17afff83-be5c-4a48-8f16-04a63a09ffc1",
   "metadata": {},
   "source": [
    "## 设置LangSmith密钥"
   ]
  },
  {
   "cell_type": "code",
   "execution_count": 1,
   "id": "78ba6762-71d7-4295-aed0-714c6d517269",
   "metadata": {},
   "outputs": [
    {
     "name": "stdin",
     "output_type": "stream",
     "text": [
      " ········\n"
     ]
    }
   ],
   "source": [
    "# 代码\n",
    "\n",
    "import getpass\n",
    "import os  \n",
    "\n",
    "os.environ[\"LANGSMITH_TRACING\"] = \"true\"\n",
    "os.environ[\"LANGSMITH_API_KEY\"] = getpass.getpass()  "
   ]
  },
  {
   "cell_type": "markdown",
   "id": "67f76346-b526-4c7e-88a2-8aeb22a4f2d9",
   "metadata": {},
   "source": [
    "## 创建记忆存储功能实例"
   ]
  },
  {
   "cell_type": "code",
   "execution_count": 2,
   "id": "69a123e1-0f3b-4c43-bb39-040f3f97c30f",
   "metadata": {},
   "outputs": [],
   "source": [
    "from langgraph.checkpoint.memory import MemorySaver\n",
    "memory = MemorySaver()"
   ]
  },
  {
   "cell_type": "markdown",
   "id": "651283df-55aa-4625-9032-d5a5ab48dc05",
   "metadata": {},
   "source": [
    "## 设置搜索引擎实例"
   ]
  },
  {
   "cell_type": "code",
   "execution_count": 3,
   "id": "f17ed8be-1527-4703-98c0-e220802d40b9",
   "metadata": {},
   "outputs": [
    {
     "name": "stdin",
     "output_type": "stream",
     "text": [
      "TAVILY_API_KEY:  ········\n"
     ]
    }
   ],
   "source": [
    "import getpass\n",
    "import os  \n",
    "\n",
    "def _set_env(var: str):\n",
    "    if not os.environ.get(var):\n",
    "        os.environ[var] = getpass.getpass(f\"{var}: \")\n",
    "\n",
    "_set_env(\"TAVILY_API_KEY\")\n",
    "# 设置密钥环境变量"
   ]
  },
  {
   "cell_type": "markdown",
   "id": "3703f728-f48c-442f-8808-70b04caa4503",
   "metadata": {},
   "source": [
    "## 设置DeepSeek实例"
   ]
  },
  {
   "cell_type": "code",
   "execution_count": 4,
   "id": "fdb37205-d457-49c8-9893-4bbe5da2a0bb",
   "metadata": {},
   "outputs": [
    {
     "name": "stdin",
     "output_type": "stream",
     "text": [
      "Enter your DeepSeek API key:  ········\n"
     ]
    }
   ],
   "source": [
    "from langchain_deepseek import ChatDeepSeek\n",
    "if not os.getenv(\"DEEPSEEK_API_KEY\"):\n",
    "    os.environ[\"DEEPSEEK_API_KEY\"] = getpass.getpass(\"Enter your DeepSeek API key: \")\n",
    "\n",
    "llm = ChatDeepSeek(\n",
    "    model=\"deepseek-chat\", # 指定使用的模型\n",
    "    temperature=0, # 控制生成文本的随机性\n",
    "    max_tokens=100, # 生成的最大token数限制\n",
    "    timeout=None, # 请求超时时间\n",
    "    max_retries=2, # 请求失败时的最大重试次数\n",
    "    # other params...\n",
    ")"
   ]
  },
  {
   "cell_type": "markdown",
   "id": "5a8d58a6-0c07-416d-81ab-51f7fd9fc0bb",
   "metadata": {},
   "source": [
    "## 创建可调用工具的基础聊天机器人\n",
    "- 上面学到的工具封装和条件逻辑判断部分，LangChain都做好了封装，可以直接拿来就用"
   ]
  },
  {
   "cell_type": "code",
   "execution_count": 5,
   "id": "91011d0d-474d-4231-ac07-c491d7069805",
   "metadata": {},
   "outputs": [
    {
     "data": {
      "text/plain": [
       "<langgraph.graph.state.StateGraph at 0x7fd970b70d30>"
      ]
     },
     "execution_count": 5,
     "metadata": {},
     "output_type": "execute_result"
    }
   ],
   "source": [
    "from typing import Annotated\n",
    "\n",
    "from langchain_anthropic import ChatAnthropic\n",
    "from langchain_community.tools.tavily_search import TavilySearchResults\n",
    "from langchain_core.messages import BaseMessage\n",
    "from typing_extensions import TypedDict\n",
    "\n",
    "from langgraph.graph import StateGraph, START, END\n",
    "from langgraph.graph.message import add_messages\n",
    "from langgraph.prebuilt import ToolNode, tools_condition\n",
    "\n",
    "\n",
    "class State(TypedDict):\n",
    "    messages: Annotated[list, add_messages]\n",
    "\n",
    "\n",
    "graph_builder = StateGraph(State)\n",
    "\n",
    "\n",
    "tool = TavilySearchResults(max_results=2)\n",
    "tools = [tool]\n",
    "llm_with_tools = llm.bind_tools(tools)\n",
    "\n",
    "\n",
    "def chatbot(state: State):\n",
    "    return {\"messages\": [llm_with_tools.invoke(state[\"messages\"])]}\n",
    "\n",
    "\n",
    "graph_builder.add_node(\"chatbot\", chatbot)\n",
    "\n",
    "tool_node = ToolNode(tools=[tool])\n",
    "graph_builder.add_node(\"tools\", tool_node)\n",
    "\n",
    "graph_builder.add_conditional_edges(\n",
    "    \"chatbot\",\n",
    "    tools_condition,\n",
    ")\n",
    "# Any time a tool is called, we return to the chatbot to decide the next step\n",
    "graph_builder.add_edge(\"tools\", \"chatbot\")\n",
    "graph_builder.add_edge(START, \"chatbot\")"
   ]
  },
  {
   "cell_type": "markdown",
   "id": "282c49fe-6c68-4ba7-9f38-72858c8a501d",
   "metadata": {},
   "source": [
    "## 将配置好的流程图框架编译成可运行的实例\n",
    "- 在这里配置了记忆的功能，在编译的时候使用checkpointer参数来控制是否记忆之前的内容"
   ]
  },
  {
   "cell_type": "code",
   "execution_count": 6,
   "id": "fcacd9dd-9499-4d3f-8738-f7467400384c",
   "metadata": {},
   "outputs": [],
   "source": [
    "graph = graph_builder.compile(checkpointer=memory)"
   ]
  },
  {
   "cell_type": "markdown",
   "id": "187dba31-88d6-40a5-b284-324ae93aa3c7",
   "metadata": {},
   "source": [
    "## 流程图可视化"
   ]
  },
  {
   "cell_type": "code",
   "execution_count": 7,
   "id": "4d0ad980-b3f8-40f3-80c0-c574cb8b67da",
   "metadata": {},
   "outputs": [
    {
     "data": {
      "image/png": "[encoded data removed]",
      "text/plain": [
       "<IPython.core.display.Image object>"
      ]
     },
     "metadata": {},
     "output_type": "display_data"
    }
   ],
   "source": [
    "from IPython.display import Image, display \n",
    "\n",
    "try:\n",
    "    display(Image(graph.get_graph().draw_mermaid_png()))\n",
    "except Exception:\n",
    "    pass"
   ]
  },
  {
   "cell_type": "markdown",
   "id": "fc5e2f2a-2eff-427f-b7e7-076fb1a5d5e3",
   "metadata": {},
   "source": [
    "## 设置线程\n",
    "- 线程主要是为了控制聊天状态的，生产环境可能存在很多聊天需求，用线程可以轻松管理"
   ]
  },
  {
   "cell_type": "code",
   "execution_count": 8,
   "id": "a1f4083c-2fde-4654-8f7b-a34a64ee5399",
   "metadata": {},
   "outputs": [],
   "source": [
    "config = {\"configurable\": {\"thread_id\": \"1\"}}"
   ]
  },
  {
   "cell_type": "markdown",
   "id": "e098452c-dc5e-4497-ac11-f6bbe8a24f97",
   "metadata": {},
   "source": [
    "## 实际调用测试"
   ]
  },
  {
   "cell_type": "code",
   "execution_count": 9,
   "id": "4e257f95-7997-4dd5-ac41-5e7301dbe750",
   "metadata": {},
   "outputs": [
    {
     "name": "stdout",
     "output_type": "stream",
     "text": [
      "================================\u001b[1m Human Message \u001b[0m=================================\n",
      "\n",
      "Hi there! My name is Will.\n",
      "==================================\u001b[1m Ai Message \u001b[0m==================================\n",
      "\n",
      "Hi Will! It's great to meet you. How can I assist you today?\n"
     ]
    }
   ],
   "source": [
    "user_input = \"Hi there! My name is Will.\"\n",
    "\n",
    "# The config is the **second positional argument** to stream() or invoke()!\n",
    "events = graph.stream(\n",
    "    {\"messages\": [{\"role\": \"user\", \"content\": user_input}]},\n",
    "    config,\n",
    "    stream_mode=\"values\",\n",
    ")\n",
    "for event in events:\n",
    "    event[\"messages\"][-1].pretty_print()"
   ]
  },
  {
   "cell_type": "code",
   "execution_count": 10,
   "id": "55a96672-1b17-416d-8a58-cefbef9f9f06",
   "metadata": {},
   "outputs": [
    {
     "name": "stdout",
     "output_type": "stream",
     "text": [
      "================================\u001b[1m Human Message \u001b[0m=================================\n",
      "\n",
      "Rember my name?\n",
      "==================================\u001b[1m Ai Message \u001b[0m==================================\n",
      "\n",
      "Got it! Your name is **Will**. I'll remember that for the rest of our conversation. What can I do for you, Will? 😊\n"
     ]
    }
   ],
   "source": [
    "user_input = \"Rember my name?\"\n",
    "\n",
    "events = graph.stream(\n",
    "    {\"messages\": [{\"role\": \"user\", \"content\": user_input}]},\n",
    "    config,\n",
    "    stream_mode=\"values\",\n",
    ")\n",
    "for event in events:\n",
    "    event[\"messages\"][-1].pretty_print()"
   ]
  },
  {
   "cell_type": "code",
   "execution_count": null,
   "id": "84c739e1-7f93-48ae-b104-e0587ef745a0",
   "metadata": {},
   "outputs": [],
   "source": [
    "user_input = \"Rember my name?\"\n",
    "\n",
    "events = graph.stream(\n",
    "    {\"messages\": [{\"role\": \"user\", \"content\": user_input}]},\n",
    "    {\"configurable\": {\"thread_id\": \"2\"}},\n",
    "    stream_mode=\"values\",\n",
    ")\n",
    "for event in events:\n",
    "    event[\"messages\"][-1].pretty_print()"
   ]
  },
  {
   "cell_type": "markdown",
   "id": "ecd24ba1-b007-4c63-a0ee-cc2450df4063",
   "metadata": {},
   "source": [
    "# 6.人为干预 - Human-in-the-loop"
   ]
  },
  {
   "cell_type": "markdown",
   "id": "483929b3-2ab5-444a-b75a-bf74c98c6470",
   "metadata": {},
   "source": [
    "## 设置LangSmith密钥"
   ]
  },
  {
   "cell_type": "code",
   "execution_count": 1,
   "id": "bcddc09a-d1bd-4cef-b9d9-302c72579f9a",
   "metadata": {},
   "outputs": [
    {
     "name": "stdin",
     "output_type": "stream",
     "text": [
      " ········\n"
     ]
    }
   ],
   "source": [
    "# 代码\n",
    "\n",
    "import getpass\n",
    "import os  \n",
    "\n",
    "os.environ[\"LANGSMITH_TRACING\"] = \"true\"\n",
    "os.environ[\"LANGSMITH_API_KEY\"] = getpass.getpass()  "
   ]
  },
  {
   "cell_type": "markdown",
   "id": "ad2b90dd-3b2e-4dd6-99cc-df453f19fd77",
   "metadata": {},
   "source": [
    "## 设置搜索引擎工具"
   ]
  },
  {
   "cell_type": "code",
   "execution_count": 3,
   "id": "1009f939-8d03-483e-b215-586c97e22341",
   "metadata": {},
   "outputs": [
    {
     "name": "stdin",
     "output_type": "stream",
     "text": [
      "TAVILY_API_KEY:  ········\n"
     ]
    }
   ],
   "source": [
    "import getpass\n",
    "import os  \n",
    "\n",
    "def _set_env(var: str):\n",
    "    if not os.environ.get(var):\n",
    "        os.environ[var] = getpass.getpass(f\"{var}: \")\n",
    "\n",
    "_set_env(\"TAVILY_API_KEY\")\n",
    "# 设置密钥环境变量"
   ]
  },
  {
   "cell_type": "markdown",
   "id": "101fafe2-b7c6-473c-a275-5af7325a0a7c",
   "metadata": {},
   "source": [
    "## 设置DeepSeek"
   ]
  },
  {
   "cell_type": "code",
   "execution_count": 4,
   "id": "bb616756-c346-4e49-8844-15821bba4afb",
   "metadata": {},
   "outputs": [
    {
     "name": "stdin",
     "output_type": "stream",
     "text": [
      "Enter your DeepSeek API key:  ········\n"
     ]
    }
   ],
   "source": [
    "from langchain_deepseek import ChatDeepSeek\n",
    "if not os.getenv(\"DEEPSEEK_API_KEY\"):\n",
    "    os.environ[\"DEEPSEEK_API_KEY\"] = getpass.getpass(\"Enter your DeepSeek API key: \")\n",
    "\n",
    "llm = ChatDeepSeek(\n",
    "    model=\"deepseek-chat\", # 指定使用的模型\n",
    "    temperature=0, # 控制生成文本的随机性\n",
    "    max_tokens=100, # 生成的最大token数限制\n",
    "    timeout=None, # 请求超时时间\n",
    "    max_retries=2, # 请求失败时的最大重试次数\n",
    "    # other params...\n",
    ")"
   ]
  },
  {
   "cell_type": "markdown",
   "id": "7f5738d0-403c-4910-a686-a1ea10f000f3",
   "metadata": {},
   "source": [
    "## 设置记忆模块"
   ]
  },
  {
   "cell_type": "code",
   "execution_count": 2,
   "id": "612e6706-f1c9-4ac0-b2c4-5053c7943638",
   "metadata": {},
   "outputs": [],
   "source": [
    "from langgraph.checkpoint.memory import MemorySaver\n",
    "memory = MemorySaver()"
   ]
  },
  {
   "cell_type": "markdown",
   "id": "59ca0ef6-a2dc-4f38-a959-cec0d0356257",
   "metadata": {},
   "source": [
    "## 创建可以调用工具的聊天机器人\n",
    "- 在这个阶段，多添加一个自定义工具，当调用这个工具的时候，状态图停止流转，并等待外部输入信息，再进一步进行处理。"
   ]
  },
  {
   "cell_type": "code",
   "execution_count": 6,
   "id": "dd4f861e-3132-4e46-b0ec-c77e7f78b474",
   "metadata": {},
   "outputs": [
    {
     "data": {
      "text/plain": [
       "<langgraph.graph.state.StateGraph at 0x7fd6c950ec70>"
      ]
     },
     "execution_count": 6,
     "metadata": {},
     "output_type": "execute_result"
    }
   ],
   "source": [
    "from typing import Annotated\n",
    "\n",
    "from langchain_community.tools.tavily_search import TavilySearchResults\n",
    "from langchain_core.tools import tool\n",
    "from typing_extensions import TypedDict\n",
    "\n",
    "from langgraph.graph import StateGraph, START, END\n",
    "from langgraph.graph.message import add_messages\n",
    "from langgraph.prebuilt import ToolNode, tools_condition\n",
    "\n",
    "from langgraph.types import Command, interrupt\n",
    "\n",
    "class State(TypedDict):\n",
    "    messages: Annotated[list, add_messages]\n",
    "\n",
    "graph_builder = StateGraph(State)\n",
    "\n",
    "@tool\n",
    "def human_assistance(query: str) -> str:\n",
    "    \"\"\"向人请求帮助.\"\"\"\n",
    "    human_response = interrupt({\"query\": query})\n",
    "    return human_response[\"data\"]\n",
    "\n",
    "tool = TavilySearchResults(max_results=2)\n",
    "tools = [tool, human_assistance]\n",
    "llm_with_tools = llm.bind_tools(tools)\n",
    "\n",
    "def chatbot(state: State):\n",
    "    message = llm_with_tools.invoke(state[\"messages\"])\n",
    "    assert len(message.tool_calls) <= 1\n",
    "    return {\"messages\": [message]}\n",
    "\n",
    "graph_builder.add_node(\"chatbot\", chatbot)\n",
    "\n",
    "tool_node = ToolNode(tools=tools)\n",
    "graph_builder.add_node(\"tools\", tool_node)\n",
    "\n",
    "graph_builder.add_conditional_edges(\n",
    "    \"chatbot\",\n",
    "    tools_condition,\n",
    ")\n",
    "graph_builder.add_edge(\"tools\", \"chatbot\")\n",
    "graph_builder.add_edge(START, \"chatbot\")"
   ]
  },
  {
   "cell_type": "markdown",
   "id": "018ef27b-1a5b-4c1a-9ad9-90841b5a4255",
   "metadata": {
    "tags": []
   },
   "source": [
    "1. @tool 是一个装饰器（decorator），在这里它来自 langchain_core.tools 模块，用于将一个普通的 Python 函数标记为一个“工具”（tool）。在语言模型（如 LLM）的工作流中，工具是一个可以被模型调用的外部功能，用于执行特定任务。\n",
    "\n",
    "    - 在你的代码中，@tool 装饰器被应用在 human_assistance 函数上。这意味着 human_assistance 被定义为一个工具，语言模型可以在需要时调用它。\n",
    "\n",
    "2. interrupt 是 langgraph 框架中的一个功能，用于在工作流（graph）执行过程中暂停当前的处理流程，并等待外部输入（比如人工干预）。它通常用于需要动态交互的场景。\n",
    "    - interrupt 的使用与 langgraph 的检查点（checkpoint）和状态管理机制紧密相关。langgraph 是一个用于构建状态机的框架，它允许在执行过程中保存状态、暂停和恢复。\n",
    "\n",
    "    - 当 human_assistance 被调用时，interrupt 会暂停图（graph）的执行，等待外部输入。输入完成后，工作流会从暂停的地方恢复，并将结果传回 chatbot 节点。\n",
    "\n",
    "3. assert len(message.tool_calls) <= 1 的目的是：\n",
    "    - 禁止并行工具调用：避免因中断和恢复导致的重复执行或状态混乱。\n",
    "\n",
    "    - 确保流程简单性：在带有 interrupt 的工作流中，限制为最多一个工具调用使状态管理和恢复更加可靠。\n",
    "\n",
    "    - 防御性检查：通过 assert 在开发时捕获潜在问题。"
   ]
  },
  {
   "cell_type": "markdown",
   "id": "d5ef76a0-2b1a-4ab6-91e5-0ed1aef84b43",
   "metadata": {},
   "source": [
    "## 编译流程图实例，可以记忆上下文"
   ]
  },
  {
   "cell_type": "code",
   "execution_count": 7,
   "id": "7bfb9a93-a4e5-42e4-8f44-f003f8d79f33",
   "metadata": {},
   "outputs": [],
   "source": [
    "graph = graph_builder.compile(checkpointer=memory)"
   ]
  },
  {
   "cell_type": "markdown",
   "id": "20af6ceb-a923-403b-871f-bd9263633c35",
   "metadata": {},
   "source": [
    "## 流程图可视化"
   ]
  },
  {
   "cell_type": "code",
   "execution_count": 9,
   "id": "da283d89-990b-4d34-b8a6-eceb85971200",
   "metadata": {},
   "outputs": [
    {
     "data": {
      "image/png": "[encoded data removed]",
      "text/plain": [
       "<IPython.core.display.Image object>"
      ]
     },
     "metadata": {},
     "output_type": "display_data"
    }
   ],
   "source": [
    "from IPython.display import Image, display\n",
    "\n",
    "try:\n",
    "    display(Image(graph.get_graph().draw_mermaid_png()))\n",
    "except Exception:\n",
    "    pass"
   ]
  },
  {
   "cell_type": "markdown",
   "id": "1571c108-c2d9-4522-9507-97b1ad90cc04",
   "metadata": {},
   "source": [
    "## 输入问题进行调用"
   ]
  },
  {
   "cell_type": "code",
   "execution_count": 10,
   "id": "ba029724-0e10-42e6-8b04-0900e71a51af",
   "metadata": {},
   "outputs": [
    {
     "name": "stdout",
     "output_type": "stream",
     "text": [
      "================================\u001b[1m Human Message \u001b[0m=================================\n",
      "\n",
      "I need some expert guidance for building an AI agent. Could you request assistance for me?\n",
      "==================================\u001b[1m Ai Message \u001b[0m==================================\n",
      "Tool Calls:\n",
      "  human_assistance (call_0_fbb4f2ca-0d00-4b3a-91b1-77eb22482c92)\n",
      " Call ID: call_0_fbb4f2ca-0d00-4b3a-91b1-77eb22482c92\n",
      "  Args:\n",
      "    query: I need expert guidance for building an AI agent. Could someone assist me with this?\n"
     ]
    }
   ],
   "source": [
    "user_input = \"I need some expert guidance for building an AI agent. Could you request assistance for me?\"\n",
    "config = {\"configurable\": {\"thread_id\": \"1\"}}\n",
    "\n",
    "events = graph.stream(\n",
    "    {\"messages\": [{\"role\":\"user\", \"content\":user_input}]},\n",
    "    config,\n",
    "    stream_mode = \"values\"\n",
    ")\n",
    "\n",
    "for event in events:\n",
    "    if \"messages\" in event:\n",
    "        event[\"messages\"][-1].pretty_print()"
   ]
  },
  {
   "cell_type": "markdown",
   "id": "6c7ec524-99ab-4b9e-8aeb-0b31012ef6f1",
   "metadata": {},
   "source": [
    "## 拿到状态图当前的快照信息，查看下一个要执行的节点信息"
   ]
  },
  {
   "cell_type": "code",
   "execution_count": 11,
   "id": "b2b96871-d1a6-4014-b9f1-ec388974fc31",
   "metadata": {},
   "outputs": [
    {
     "data": {
      "text/plain": [
       "('tools',)"
      ]
     },
     "execution_count": 11,
     "metadata": {},
     "output_type": "execute_result"
    }
   ],
   "source": [
    "snapshot = graph.get_state(config)\n",
    "snapshot.next"
   ]
  },
  {
   "cell_type": "markdown",
   "id": "aeaba510-5a87-48e4-b2d9-c5b301641ef4",
   "metadata": {},
   "source": [
    "## 调用自定义工具后流程中断，使用命令进行干涉\n",
    "- 因为流程中调用了自定义的工具，状态图的流转被中断，等待新的命令\n",
    "- 这里输入了新的提示词，并将提示词赋值给human_response，作为工具消息返回，使用command命令让状态图使用这个外部输入的消息作为工具消息执行完后续的任务。"
   ]
  },
  {
   "cell_type": "code",
   "execution_count": 12,
   "id": "2af502e5-1323-43ed-ac75-d8151422a13c",
   "metadata": {},
   "outputs": [
    {
     "name": "stdout",
     "output_type": "stream",
     "text": [
      "==================================\u001b[1m Ai Message \u001b[0m==================================\n",
      "Tool Calls:\n",
      "  human_assistance (call_0_fbb4f2ca-0d00-4b3a-91b1-77eb22482c92)\n",
      " Call ID: call_0_fbb4f2ca-0d00-4b3a-91b1-77eb22482c92\n",
      "  Args:\n",
      "    query: I need expert guidance for building an AI agent. Could someone assist me with this?\n",
      "=================================\u001b[1m Tool Message \u001b[0m=================================\n",
      "Name: human_assistance\n",
      "\n",
      "We, the experts are here to help! We'd recommend you check out LangGraph to build your agent. It's much more reliable and extensible than simple autonomous agents.\n",
      "==================================\u001b[1m Ai Message \u001b[0m==================================\n",
      "\n",
      "Great news! The experts recommend using **LangGraph** to build your AI agent, as it is more reliable and extensible compared to simple autonomous agents. \n",
      "\n",
      "Would you like further details on how to get started with LangGraph or any specific aspects of building your AI agent?\n"
     ]
    }
   ],
   "source": [
    "human_response = (\n",
    "    \"We, the experts are here to help! We'd recommend you check out LangGraph to build your agent.\"\n",
    "    \" It's much more reliable and extensible than simple autonomous agents.\"\n",
    ")\n",
    "\n",
    "human_command = Command(resume={\"data\": human_response})\n",
    "\n",
    "events = graph.stream(human_command, config, stream_mode=\"values\")\n",
    "for event in events:\n",
    "    if \"messages\" in event:\n",
    "        event[\"messages\"][-1].pretty_print()"
   ]
  },
  {
   "cell_type": "markdown",
   "id": "1b0a1b67-5efd-40ff-b9ed-120064c59a95",
   "metadata": {},
   "source": [
    "1. 在 langgraph 的设计中，Command 可能是某种命令模式（Command Pattern）的实现，用来告诉框架如何处理当前状态或中断。\n",
    "    - Command 的作用：它是一个封装了特定指令的对象，可能用于与 langgraph 的运行时交互。例如，Command 可以表示“继续执行”、“暂停”或“注入数据”等操作。\n",
    "\n",
    "2. resume 参数的含义\n",
    "    - resume：从字面意思来看，“resume” 表示“恢复”。结合 interrupt 的上下文，这里的 resume 很可能是一个关键字，用于指示工作流从之前的中断点继续执行。\n",
    "\n",
    "    - {\"data\": human_response}：这是恢复时注入的数据。interrupt 在暂停工作流时发出一个信号（例如 {\"query\": query}），而恢复时需要提供相应的响应数据。resume={\"data\": human_response} 表示将 human_response 作为外部输入注入回去，以完成 interrupt 的等待。\n",
    "\n"
   ]
  },
  {
   "cell_type": "markdown",
   "id": "7a924059-9f62-486b-9998-905101a7f5e5",
   "metadata": {},
   "source": [
    "# 7.自定义状态 - Customizing State"
   ]
  },
  {
   "cell_type": "markdown",
   "id": "5ea27ffc-211f-432c-8857-48c249f4a1cc",
   "metadata": {},
   "source": [
    "## 设置LangSmith密钥"
   ]
  },
  {
   "cell_type": "code",
   "execution_count": 1,
   "id": "7e6fb9f5-b969-46bb-b7c7-a8a2970b5789",
   "metadata": {},
   "outputs": [
    {
     "name": "stdin",
     "output_type": "stream",
     "text": [
      " ········\n"
     ]
    }
   ],
   "source": [
    "# 代码\n",
    "\n",
    "import getpass\n",
    "import os  \n",
    "\n",
    "os.environ[\"LANGSMITH_TRACING\"] = \"true\"\n",
    "os.environ[\"LANGSMITH_API_KEY\"] = getpass.getpass()  "
   ]
  },
  {
   "cell_type": "markdown",
   "id": "5963d29a-7983-4f27-88f4-d29b4ce5278a",
   "metadata": {},
   "source": [
    "## 设置搜索引擎工具密钥"
   ]
  },
  {
   "cell_type": "code",
   "execution_count": 2,
   "id": "23f3a3ad-97d4-4c5d-9d57-048e220155f0",
   "metadata": {},
   "outputs": [
    {
     "name": "stdin",
     "output_type": "stream",
     "text": [
      "TAVILY_API_KEY:  ········\n"
     ]
    }
   ],
   "source": [
    "import getpass\n",
    "import os  \n",
    "\n",
    "def _set_env(var: str):\n",
    "    if not os.environ.get(var):\n",
    "        os.environ[var] = getpass.getpass(f\"{var}: \")\n",
    "\n",
    "_set_env(\"TAVILY_API_KEY\")\n",
    "# 设置密钥环境变量"
   ]
  },
  {
   "cell_type": "markdown",
   "id": "66b6b126-b555-4ae3-9eda-5c7bf75f5d21",
   "metadata": {},
   "source": [
    "## 设置DeepSeek"
   ]
  },
  {
   "cell_type": "code",
   "execution_count": 3,
   "id": "57139910-8078-4fac-881a-44e751631aef",
   "metadata": {},
   "outputs": [
    {
     "name": "stdin",
     "output_type": "stream",
     "text": [
      "Enter your DeepSeek API key:  ········\n"
     ]
    }
   ],
   "source": [
    "from langchain_deepseek import ChatDeepSeek\n",
    "if not os.getenv(\"DEEPSEEK_API_KEY\"):\n",
    "    os.environ[\"DEEPSEEK_API_KEY\"] = getpass.getpass(\"Enter your DeepSeek API key: \")\n",
    "\n",
    "llm = ChatDeepSeek(\n",
    "    model=\"deepseek-chat\", # 指定使用的模型\n",
    "    temperature=0, # 控制生成文本的随机性\n",
    "    max_tokens=100, # 生成的最大token数限制\n",
    "    timeout=None, # 请求超时时间\n",
    "    max_retries=2, # 请求失败时的最大重试次数\n",
    "    # other params...\n",
    ")"
   ]
  },
  {
   "cell_type": "markdown",
   "id": "3b31b82f-1ee4-40e9-a220-c7cd00dfe28d",
   "metadata": {},
   "source": [
    "## 设置记忆模块"
   ]
  },
  {
   "cell_type": "code",
   "execution_count": 4,
   "id": "d7e98347-8449-4a96-9a0b-249cf5771cf8",
   "metadata": {},
   "outputs": [],
   "source": [
    "from langgraph.checkpoint.memory import MemorySaver\n",
    "memory = MemorySaver()"
   ]
  },
  {
   "cell_type": "markdown",
   "id": "06569486-87d3-4b9c-ba72-f029b091a027",
   "metadata": {},
   "source": [
    "## 初始化状态State"
   ]
  },
  {
   "cell_type": "code",
   "execution_count": 5,
   "id": "2571472c-28fe-4d7d-9c52-909ccd6c6001",
   "metadata": {},
   "outputs": [],
   "source": [
    "from typing import Annotated\n",
    "\n",
    "from typing_extensions import TypedDict \n",
    "\n",
    "from langgraph.graph.message import add_messages\n",
    "\n",
    "class State(TypedDict):\n",
    "    messages: Annotated[list, add_messages]\n",
    "    name: str\n",
    "    birthday: str"
   ]
  },
  {
   "cell_type": "markdown",
   "id": "92a161d3-fd1a-4268-a38b-d1469da4c730",
   "metadata": {},
   "source": [
    "## 构建一个human_assistance工具"
   ]
  },
  {
   "cell_type": "code",
   "execution_count": 18,
   "id": "b933a31a-0867-4c16-b749-a0f15a60cc6d",
   "metadata": {},
   "outputs": [],
   "source": [
    "from langchain_core.messages import ToolMessage\n",
    "from langchain_core.tools import InjectedToolCallId, tool\n",
    "from langgraph.types import Command, interrupt\n",
    "\n",
    "@tool\n",
    "\n",
    "def human_assistance(\n",
    "    name: str, birthday: str, tool_call_id: Annotated[str, InjectedToolCallId]\n",
    ") -> str:\n",
    "    \"\"\"寻求人类协助\"\"\"\n",
    "    human_response = interrupt(\n",
    "        {\n",
    "            \"question\": \"Is this correct?\",\n",
    "            \"name\": name,\n",
    "            \"birthday\": birthday,\n",
    "        },\n",
    "    )\n",
    "\n",
    "    if human_response.get(\"correct\", \"\").lower().startswith(\"y\"):\n",
    "        verified_name = name\n",
    "        verified_birthday = birthday\n",
    "        response = \"Correct\"\n",
    "    else:\n",
    "        verified_name = human_response.get(\"name\", name)\n",
    "        verified_birthday = human_response.get(\"birthday\", birthday)\n",
    "        response = f\"Made a correction: {human_response}\"\n",
    "    \n",
    "    state_update = {\n",
    "        \"name\": verified_name,\n",
    "        \"birthday\": verified_birthday,\n",
    "        \"messages\": [ToolMessage(response, tool_call_id=tool_call_id)],        \n",
    "    }\n",
    "    \n",
    "    return Command(update=state_update)"
   ]
  },
  {
   "cell_type": "markdown",
   "id": "c1f59fa6-fe09-4a82-97f0-110f556a893a",
   "metadata": {
    "tags": []
   },
   "source": [
    "1. name: str, birthday: str, tool_call_id: Annotated[str, InjectedToolCallID]\n",
    "    - 这里的tool_call_id的作用和逻辑是什么？\n",
    "\n",
    "    - Annotated[str, InjectedToolCallID] 是 Python 的类型提示，表示 tool_call_id 是一个字符串，并且这个值是由框架自动注入的（InjectedToolCallID 是一个特殊的标记，告诉框架在调用工具时提供这个 ID）。\n",
    "\n",
    "2. f human_response.get(\"correct\", \"\").lower().startwith(\"y\"):\n",
    "- 这里看不太懂\n",
    "\n",
    "    - 从字典中获取键 \"correct\" 对应的值。如果字典中没有 \"correct\" 键，则返回默认值空字符串 \"\"。\n",
    "        - \"correct\" 哪里产生的？ 人类助手介入后输入信息时产生的。\n",
    "            - 这个响应是一个字典，常见的格式包括：\n",
    "            - 信息正确时：{\"correct\": \"yes\"}\n",
    "            - 信息不正确时：{\"correct\": \"no\", \"name\": \"corrected_name\", \"birthday\": \"corrected_birthday\"}\n",
    "            - 人类助手的输入（字典）被外部系统捕获，并通过工作流的恢复机制注入回来。\n",
    "\n",
    "\n",
    "3. 还是不太理解interrupt之后，流程停止，代码是如何与人类assisstance交互拿到数据的。\n",
    "    - 当代码执行到 interrupt 时，工作流暂停，并将问题 \"Is this correct?\" 以及当前的 name 和 birthday 发送给外部系统（例如一个用户界面或人工助手）。\n",
    "    - 外部系统（例如一个界面）接收到中断信号后，会显示问题和数据给人类助手。\n",
    "    - 人类助手查看信息并提供响应\n",
    "    - 一旦人类响应被提供，interrupt 函数返回这个响应（即 human_response）。\n",
    "    - human_response = interrupt(...) 这一行会阻塞，直到外部系统提供响应，然后将响应赋值给 human_response，供后续逻辑使用。\n",
    "\n",
    "\n",
    "4. response = f\"Made a correction: {human_response}\"\n",
    "    - 这里的f是什么意思？\n",
    "\n",
    "    - f 是 Python 3.6+ 引入的格式化字符串（f-string）的前缀。\n",
    "    - 它允许你在字符串中直接嵌入变量或表达式的值，用 {} 包裹。\n",
    "\n",
    "\n",
    "5. response = f\"Made a correction: {human_response}\"\n",
    "    - 这里的逻辑也看不太懂, 类似github commit的时候的备注？\n",
    "    - 这行代码在 human_response.get(\"correct\", \"\").lower().startswith(\"y\") 为 False 时执行，表示人类助手认为原始信息不正确。\n",
    "    - response 的作用类似于 GitHub commit 的提交信息，它提供了一个人类可读的说明，记录了发生了什么（即信息被修正）以及修正的细节（human_response 的内容）。\n",
    "\n",
    "\n",
    "6. return Command(update=state_update)\n",
    "    - command 能够直接通过命令修改state的状态？ \n",
    "    - Command 是一个特殊的对象，用于向 langgraph 框架传递指令。\n",
    "    - 当函数返回 Command(update=state_update) 时，langgraph 框架会解析这个命令，并根据 state_update 的内容直接更新工作流的状态。"
   ]
  },
  {
   "cell_type": "markdown",
   "id": "59021e04-f784-4253-a37c-4463cecc5c47",
   "metadata": {},
   "source": [
    "## 创建一个聊天机器人，可调用工具，可记忆上下文"
   ]
  },
  {
   "cell_type": "code",
   "execution_count": 17,
   "id": "eba25c01-1dbf-455b-8c31-7121b77237e9",
   "metadata": {},
   "outputs": [],
   "source": [
    "from langchain_community.tools.tavily_search import TavilySearchResults\n",
    "\n",
    "from langgraph.graph import StateGraph, START, END\n",
    "from langgraph.prebuilt import ToolNode, tools_condition\n",
    "\n",
    "tool = TavilySearchResults(max_results=2)\n",
    "tools = [tool, human_assistance]\n",
    "llm_with_tools = llm.bind_tools(tools)\n",
    "\n",
    "def chatbot(state: State):\n",
    "    message = llm_with_tools.invoke(state[\"messages\"])\n",
    "    assert len(message.tool_calls) <= 1\n",
    "    return {\"messages\": [message]}\n",
    "\n",
    "graph_builder = StateGraph(State)\n",
    "\n",
    "graph_builder.add_node(\"chatbot\", chatbot)\n",
    "\n",
    "tool_node = ToolNode(tools=tools)\n",
    "graph_builder.add_node(\"tools\", tool_node)\n",
    "\n",
    "graph_builder.add_conditional_edges(\n",
    "    \"chatbot\",\n",
    "    tools_condition,\n",
    ")\n",
    "graph_builder.add_edge(\"tools\", \"chatbot\")\n",
    "graph_builder.add_edge(START, \"chatbot\")\n",
    "\n",
    "memory = MemorySaver()\n",
    "graph = graph_builder.compile(checkpointer=memory)"
   ]
  },
  {
   "cell_type": "markdown",
   "id": "285fdaba-c063-471e-b32d-98bc3c54f5a5",
   "metadata": {},
   "source": [
    "## 输入问题并调用机器人，流式输出每一步的最新消息"
   ]
  },
  {
   "cell_type": "code",
   "execution_count": 19,
   "id": "f4a84773-cebf-475c-a7f0-741971d74b22",
   "metadata": {},
   "outputs": [
    {
     "name": "stdout",
     "output_type": "stream",
     "text": [
      "================================\u001b[1m Human Message \u001b[0m=================================\n",
      "\n",
      "Can you look up when LangGraph was released? When you have the answer, use the human_assistance tool for review.\n",
      "==================================\u001b[1m Ai Message \u001b[0m==================================\n",
      "Tool Calls:\n",
      "  tavily_search_results_json (call_0_bbba43cb-7ce8-40d7-9876-66505b4f5f62)\n",
      " Call ID: call_0_bbba43cb-7ce8-40d7-9876-66505b4f5f62\n",
      "  Args:\n",
      "    query: LangGraph release date\n",
      "=================================\u001b[1m Tool Message \u001b[0m=================================\n",
      "Name: tavily_search_results_json\n",
      "\n",
      "[{\"title\": \"langgraph - PyPI\", \"url\": \"https://pypi.org/project/langgraph/0.0.8/\", \"content\": \"This release has been yanked. Released: Jan 7, 2024. langgraph. Navigation. Project description; Release history; Download files. Verified details.\", \"score\": 0.8674071}, {\"title\": \"langgraph - PyPI\", \"url\": \"https://pypi.org/project/langgraph/\", \"content\": \"langgraph · PyPI\\nSkip to main content Switch to mobile version\\n\\nSearch PyPI  Search\\n\\nHelp\\nSponsors\\nLog in\\nRegister\\n\\nMenu\\n\\nHelp\\nSponsors\\nLog in\\nRegister\\n\\nSearch PyPI  Search\\nlanggraph 0.2.70\\npip install langgraph Copy PIP instructions\\nLatest versionReleased: Feb 6, 2025\\nBuilding stateful, multi-actor applications with LLMs\\nNavigation\\n\\nProject description\\nRelease history\\nDownload files [...] 0.2.20 Sep 13, 2024\\n\\n0.2.19 Sep 6, 2024\\n\\n0.2.18 Sep 6, 2024\\n\\n0.2.17 Sep 5, 2024\\n\\n0.2.16 Sep 1, 2024\\n\\n0.2.15 Aug 30, 2024\\n\\n0.2.14 Aug 24, 2024\\n\\n0.2.13 Aug 23, 2024\\n\\n0.2.12 Aug 22, 2024\\n\\n0.2.11 Aug 22, 2024\\n\\n0.2.10 Aug 21, 2024\\n\\n0.2.9 Aug 21, 2024\\n\\n0.2.8 Aug 21, 2024\\n\\n0.2.7 Aug 21, 2024\\n\\n0.2.7a0 pre-release Aug 21, 2024\\n\\n0.2.6 Aug 21, 2024\\n\\n0.2.5 Aug 21, 2024\\n\\n0.2.5a0 pre-release Aug 20, 2024\\n\\n0.2.4 Aug 15, 2024\\n\\n0.2.3 Aug 8, 2024\\n\\n0.2.2 Aug 7, 2024\\n\\n0.2.1 Aug 7, 2024\\n\\n0.2.0 Aug 7, 2024 [...] License\\nOSI Approved :: MIT License\\n\\n\\nProgramming Language\\nPython :: 3\\nPython :: 3.9\\nPython :: 3.10\\nPython :: 3.11\\nPython :: 3.12\\n\\n\\n\\nRelease history Release notifications | RSS feed\\nThis version\\n\\n0.2.70 Feb 6, 2025\\n\\n0.2.69 Jan 31, 2025\\n\\n0.2.68 Jan 28, 2025\\n\\n0.2.67 Jan 23, 2025\\n\\n0.2.66 Jan 21, 2025\\n\\n0.2.65 Jan 21, 2025\\n\\n0.2.64 Jan 17, 2025\\n\\n0.2.63 Jan 16, 2025\\n\\n0.2.62 Jan 10, 2025\\n\\n0.2.61 Jan 5, 2025\\n\\n0.2.60 Dec 18, 2024\\n\\n0.2.59 Dec 11, 2024\\n\\n0.2.58 Dec 10, 2024\\n\\n0.2.57 Dec 10, 2024\", \"score\": 0.81875163}]\n",
      "==================================\u001b[1m Ai Message \u001b[0m==================================\n",
      "Tool Calls:\n",
      "  human_assistance (call_0_c2ff4772-ca60-42ca-8113-78765774e775)\n",
      " Call ID: call_0_c2ff4772-ca60-42ca-8113-78765774e775\n",
      "  Args:\n",
      "    name: LangGraph\n",
      "    birthday: Jan 7, 2024\n"
     ]
    }
   ],
   "source": [
    "user_input = (\n",
    "    \"Can you look up when LangGraph was released? \"\n",
    "    \"When you have the answer, use the human_assistance tool for review.\"\n",
    ")\n",
    "config = {\"configurable\" : {\"thread_id\": \"1\"}} \n",
    "\n",
    "events = graph.stream(\n",
    "    {\"messages\" : [{\"role\" : \"user\", \"content\" : user_input}]},\n",
    "    config,\n",
    "    stream_mode=\"values\",\n",
    ")\n",
    "for event in events:\n",
    "    if \"messages\" in event:\n",
    "        event[\"messages\"][-1].pretty_print()"
   ]
  },
  {
   "cell_type": "markdown",
   "id": "a8ec2904-63ab-4e74-85eb-54c26c587d9e",
   "metadata": {},
   "source": [
    "## 上一步中断在请求人类协助，这里进行判断并输入准确信息，继续状态图"
   ]
  },
  {
   "cell_type": "code",
   "execution_count": 20,
   "id": "1f589385-6ee6-4293-bab6-2b1f78e1c453",
   "metadata": {},
   "outputs": [
    {
     "name": "stdout",
     "output_type": "stream",
     "text": [
      "==================================\u001b[1m Ai Message \u001b[0m==================================\n",
      "Tool Calls:\n",
      "  human_assistance (call_0_c2ff4772-ca60-42ca-8113-78765774e775)\n",
      " Call ID: call_0_c2ff4772-ca60-42ca-8113-78765774e775\n",
      "  Args:\n",
      "    name: LangGraph\n",
      "    birthday: Jan 7, 2024\n",
      "=================================\u001b[1m Tool Message \u001b[0m=================================\n",
      "Name: human_assistance\n",
      "\n",
      "Made a correction: {'name': 'LangGraph', 'birthday': 'Jan 17, 2024'}\n",
      "==================================\u001b[1m Ai Message \u001b[0m==================================\n",
      "\n",
      "The initial search indicated that LangGraph was released on **January 7, 2024**, but upon human review, the corrected release date is **January 17, 2024**. Let me know if you'd like further details!\n"
     ]
    }
   ],
   "source": [
    "human_command = Command(\n",
    "    resume={\n",
    "        \"name\": \"LangGraph\",\n",
    "        \"birthday\": \"Jan 17, 2024\",\n",
    "    },\n",
    ")\n",
    "\n",
    "events = graph.stream(human_command, config, stream_mode=\"values\")\n",
    "for event in events:\n",
    "    if \"messages\" in event:\n",
    "        event[\"messages\"][-1].pretty_print()"
   ]
  },
  {
   "cell_type": "markdown",
   "id": "497024cd-4094-4b49-8bf3-09102e541064",
   "metadata": {},
   "source": [
    "## 获取状态图的状态，然后打印出不同键的内容"
   ]
  },
  {
   "cell_type": "code",
   "execution_count": 21,
   "id": "59c1a389-8a2e-4d51-92d4-08e3c57495f6",
   "metadata": {},
   "outputs": [
    {
     "data": {
      "text/plain": [
       "{'name': 'LangGraph', 'birthday': 'Jan 17, 2024'}"
      ]
     },
     "execution_count": 21,
     "metadata": {},
     "output_type": "execute_result"
    }
   ],
   "source": [
    "snapshot = graph.get_state(config)\n",
    "\n",
    "{k: v for k, v in snapshot.values.items() if k in (\"name\", \"birthday\") }"
   ]
  },
  {
   "cell_type": "markdown",
   "id": "29dc3d6d-c2eb-437b-a40e-1506bfcb1113",
   "metadata": {},
   "source": [
    "## 使用upstate_state语句来修改state键的内容"
   ]
  },
  {
   "cell_type": "code",
   "execution_count": 22,
   "id": "cfe1604c-b659-4ab8-9976-16431c6b1e46",
   "metadata": {},
   "outputs": [
    {
     "data": {
      "text/plain": [
       "{'configurable': {'thread_id': '1',\n",
       "  'checkpoint_ns': '',\n",
       "  'checkpoint_id': '1f00959c-0f31-692e-8006-9916086850b5'}}"
      ]
     },
     "execution_count": 22,
     "metadata": {},
     "output_type": "execute_result"
    }
   ],
   "source": [
    "graph.update_state(config, {\"name\": \"LangGraph(library)\"})"
   ]
  },
  {
   "cell_type": "markdown",
   "id": "70ab13f9-db33-485e-b9df-dcb49d585353",
   "metadata": {},
   "source": [
    "### 查看修改结果"
   ]
  },
  {
   "cell_type": "code",
   "execution_count": 23,
   "id": "069d58b2-b486-452c-9ad9-e77d74329237",
   "metadata": {},
   "outputs": [
    {
     "data": {
      "text/plain": [
       "{'name': 'LangGraph(library)', 'birthday': 'Jan 17, 2024'}"
      ]
     },
     "execution_count": 23,
     "metadata": {},
     "output_type": "execute_result"
    }
   ],
   "source": [
    "snapshot = graph.get_state(config)\n",
    "# 在 langgraph 中，get_state 返回一个 StateSnapshot 对象。\n",
    "\n",
    "{k: v for k,v in snapshot.values.items() if k in (\"name\", \"birthday\")}\n",
    "\n",
    "# values：状态的实际值，是一个字典。\n",
    "\n"
   ]
  },
  {
   "cell_type": "markdown",
   "id": "abbff395-f4db-4db0-9451-8f2ecdafe7f0",
   "metadata": {},
   "source": [
    "# 8.时间旅行 - Time Travel"
   ]
  },
  {
   "cell_type": "markdown",
   "id": "5184da6b-1492-41ca-9ed0-959a35b12d6a",
   "metadata": {},
   "source": [
    "## 设置LangSmith密钥"
   ]
  },
  {
   "cell_type": "code",
   "execution_count": 2,
   "id": "f518d33d-3200-4507-b186-63bfa7691ef3",
   "metadata": {},
   "outputs": [
    {
     "name": "stdin",
     "output_type": "stream",
     "text": [
      " ········\n"
     ]
    }
   ],
   "source": [
    "# 代码\n",
    "\n",
    "import getpass\n",
    "import os  \n",
    "\n",
    "os.environ[\"LANGSMITH_TRACING\"] = \"true\"\n",
    "os.environ[\"LANGSMITH_API_KEY\"] = getpass.getpass()  "
   ]
  },
  {
   "cell_type": "markdown",
   "id": "dd4942ed-7007-4dba-8ec5-a3ce18b0fead",
   "metadata": {},
   "source": [
    "## 设置DeepSeek"
   ]
  },
  {
   "cell_type": "code",
   "execution_count": 11,
   "id": "5942eeac-ef1d-47c6-b555-50036ee2baff",
   "metadata": {},
   "outputs": [],
   "source": [
    "from langchain_deepseek import ChatDeepSeek\n",
    "if not os.getenv(\"DEEPSEEK_API_KEY\"):\n",
    "    os.environ[\"DEEPSEEK_API_KEY\"] = getpass.getpass(\"Enter your DeepSeek API key: \")\n",
    "\n",
    "llm = ChatDeepSeek(\n",
    "    model=\"deepseek-chat\", # 指定使用的模型\n",
    "    temperature=0, # 控制生成文本的随机性\n",
    "    max_tokens=8000, # 生成的最大token数限制\n",
    "    timeout=None, # 请求超时时间\n",
    "    max_retries=2, # 请求失败时的最大重试次数\n",
    "    # other params...\n",
    ")"
   ]
  },
  {
   "cell_type": "markdown",
   "id": "20d3d772-1c01-4132-bbe9-fc881e0e5d19",
   "metadata": {},
   "source": [
    "## 设置搜索引擎工具信息"
   ]
  },
  {
   "cell_type": "code",
   "execution_count": 4,
   "id": "0ee85b5b-2172-4f4f-a8dc-582f58b49486",
   "metadata": {},
   "outputs": [
    {
     "name": "stdin",
     "output_type": "stream",
     "text": [
      "TAVILY_API_KEY:  ········\n"
     ]
    }
   ],
   "source": [
    "import getpass\n",
    "import os  \n",
    "\n",
    "def _set_env(var: str):\n",
    "    if not os.environ.get(var):\n",
    "        os.environ[var] = getpass.getpass(f\"{var}: \")\n",
    "\n",
    "_set_env(\"TAVILY_API_KEY\")\n",
    "# 设置密钥环境变量"
   ]
  },
  {
   "cell_type": "markdown",
   "id": "7ab2788c-c0f1-4794-80f4-b8e03c20d597",
   "metadata": {},
   "source": [
    "## 设置状态图记忆模块"
   ]
  },
  {
   "cell_type": "code",
   "execution_count": 5,
   "id": "35c1f27c-8542-4897-af10-fb70d33d7211",
   "metadata": {},
   "outputs": [],
   "source": [
    "from langgraph.checkpoint.memory import MemorySaver\n",
    "memory = MemorySaver()"
   ]
  },
  {
   "cell_type": "markdown",
   "id": "5fdfe2f5-3722-4c8c-adba-02f0087dfb90",
   "metadata": {},
   "source": [
    "## 创建一个聊天机器人状态图，可以调用工具，可以记忆上下文"
   ]
  },
  {
   "cell_type": "code",
   "execution_count": 12,
   "id": "039691f8-06e5-46c0-856e-97e9a8e54b1d",
   "metadata": {},
   "outputs": [],
   "source": [
    "from typing import Annotated\n",
    "\n",
    "from langchain_anthropic import ChatAnthropic\n",
    "from langchain_community.tools.tavily_search import TavilySearchResults\n",
    "from langchain_core.messages import BaseMessage\n",
    "from typing_extensions import TypedDict\n",
    "\n",
    "from langgraph.checkpoint.memory import MemorySaver\n",
    "from langgraph.graph import StateGraph, START, END\n",
    "from langgraph.graph.message import add_messages\n",
    "from langgraph.prebuilt import ToolNode, tools_condition\n",
    "\n",
    "\n",
    "class State(TypedDict):\n",
    "    messages: Annotated[list, add_messages]\n",
    "\n",
    "\n",
    "graph_builder = StateGraph(State)\n",
    "\n",
    "\n",
    "tool = TavilySearchResults(max_results=2)\n",
    "tools = [tool]\n",
    "llm_with_tools = llm.bind_tools(tools)\n",
    "\n",
    "\n",
    "def chatbot(state: State):\n",
    "    return {\"messages\": [llm_with_tools.invoke(state[\"messages\"])]}\n",
    "\n",
    "\n",
    "graph_builder.add_node(\"chatbot\", chatbot)\n",
    "\n",
    "tool_node = ToolNode(tools=[tool])\n",
    "graph_builder.add_node(\"tools\", tool_node)\n",
    "\n",
    "graph_builder.add_conditional_edges(\n",
    "    \"chatbot\",\n",
    "    tools_condition,\n",
    ")\n",
    "graph_builder.add_edge(\"tools\", \"chatbot\")\n",
    "graph_builder.add_edge(START, \"chatbot\")\n",
    "\n",
    "memory = MemorySaver()\n",
    "graph = graph_builder.compile(checkpointer=memory)"
   ]
  },
  {
   "attachments": {
    "f66230f3-f8ba-4c1c-be7e-8fd77c58aa45.png": {
     "image/png": "[encoded data removed]"
    }
   },
   "cell_type": "markdown",
   "id": "a6a2332c-2aa9-4dfd-9c75-5ba820124c0c",
   "metadata": {},
   "source": [
    "- 上面创建好了流程图\n",
    "- 定义好线程\n",
    "- 对流程图进行流式调用\n",
    "    - 参数1 ： 输入基础状态\n",
    "        - 这里输入基础状态之后，根据chatbot的机制，直接就赋值给了State数据类，进行了messages状态的变更，是在这个地方形成了human_message对象吗？具体步骤是什么？\n",
    "        - LangChain 在调用 invoke 时会自动将原始字典转换为 HumanMessage 对象。\n",
    "\n",
    "\n",
    "    - 参数2 ： 配置线程\n",
    "    - 参数3 ： stream_mode - 模式定义，这里的values是什么意思？\n",
    "        - 在 graph.stream 中，stream_mode 参数定义了流式输出的模式。stream_mode=\"values\" 表示返回的是流程图中每个节点的完整状态值（即 State 字典）。\n",
    "    - 流式调用意味着对流程图的每个节点进行调用，然后存储每一步的内容？输出的结果值是一个列表，存储了多个state状态。\n",
    "        - graph.stream 返回的是一个迭代器（而不是一个列表），每次迭代产生一个事件（event）。\n",
    "            - 迭代器是一种**惰性求值（lazy evaluation）**的对象，它不会一次性加载所有数据到内存，而是按需生成数据。\n",
    "            - 迭代器本身是一个对象（通常是类的实例），但它不一定“封装”所有数据。它的核心特性是状态管理：它记住当前的位置，并在每次调用 __next__() 时返回下一个值。\n",
    "            - 例如，graph.stream 返回的迭代器是一个生成器（generator），这是 Python 中一种特殊的迭代器，通常由带有 yield 的函数创建。生成器对象会暂停执行并在需要时恢复，而不是一次性计算所有结果。\n",
    "            - 列表 (List)：一次性将所有元素加载到内存\n",
    "            ![image.png](attachment:f66230f3-f8ba-4c1c-be7e-8fd77c58aa45.png)\n",
    "            \n",
    "        - 每个事件是一个字典，表示当前的状态或更新，具体内容取决于 stream_mode。\n",
    "        - 是的，但存储是由 checkpointer（这里是 MemorySaver）完成的，而不是 stream 本身。\n",
    "        - stream 本身只负责生成事件流，不会直接存储状态。\n",
    "\n",
    "\n",
    "- 所以这里的event就是一个state字典，然后取出这个字典的键对应的值列表的最后一位，就能拿到每一步最新的消息。 "
   ]
  },
  {
   "cell_type": "markdown",
   "id": "7aebf7da-7ddd-49fa-8326-2f87c9efbd22",
   "metadata": {},
   "source": [
    "## 输入问题字典，并流失调用聊天机器人，生成每一步的最新消息"
   ]
  },
  {
   "cell_type": "code",
   "execution_count": 13,
   "id": "20ed52da-bbaf-478e-8891-fe5265217d2e",
   "metadata": {},
   "outputs": [
    {
     "name": "stdout",
     "output_type": "stream",
     "text": [
      "================================\u001b[1m Human Message \u001b[0m=================================\n",
      "\n",
      "I'm learning LangGraph. Could you do some research on it for me?\n",
      "==================================\u001b[1m Ai Message \u001b[0m==================================\n",
      "Tool Calls:\n",
      "  tavily_search_results_json (call_0_e60efbfe-7526-43b2-8ca5-4289dfc8adff)\n",
      " Call ID: call_0_e60efbfe-7526-43b2-8ca5-4289dfc8adff\n",
      "  Args:\n",
      "    query: LangGraph\n",
      "=================================\u001b[1m Tool Message \u001b[0m=================================\n",
      "Name: tavily_search_results_json\n",
      "\n",
      "[{\"title\": \"LangGraph Quickstart - GitHub Pages\", \"url\": \"https://langchain-ai.github.io/langgraph/tutorials/introduction/\", \"content\": \"[](https://langchain-ai.github.io/langgraph/tutorials/introduction/#__codelineno-9-1)Assistant: LangGraph is a library designed to help build stateful multi-agent applications using language models. It provides tools for creating workflows and state machines to coordinate multiple AI agents or language model interactions. LangGraph is built on top of LangChain, leveraging its components while adding graph-based coordination capabilities. It's particularly useful for developing more complex, [...] [](https://langchain-ai.github.io/langgraph/tutorials/introduction/#__codelineno-21-6)   LangGraph is a library designed for building stateful, multi-actor applications with Large Language Models (LLMs). It's particularly useful for creating agent and multi-agent workflows.\\n[](https://langchain-ai.github.io/langgraph/tutorials/introduction/#__codelineno-21-7)\\n[](https://langchain-ai.github.io/langgraph/tutorials/introduction/#__codelineno-21-8)2. Developer: [...] [](https://langchain-ai.github.io/langgraph/tutorials/introduction/#__codelineno-48-19)LangGraph is likely a framework or library designed specifically for creating AI agents with advanced capabilities. Here are a few points to consider based on this recommendation:\\n[](https://langchain-ai.github.io/langgraph/tutorials/introduction/#__codelineno-48-20)\", \"score\": 0.9328032}, {\"title\": \"LangGraph: Build Stateful AI Agents in Python\", \"url\": \"https://realpython.com/langgraph-python/\", \"content\": \"LangGraph is a versatile Python library designed for stateful, cyclic, and multi-actor Large Language Model (LLM) applications.\", \"score\": 0.92125154}]\n",
      "==================================\u001b[1m Ai Message \u001b[0m==================================\n",
      "\n",
      "Here’s what I found about **LangGraph**:\n",
      "\n",
      "1. **LangGraph Quickstart - GitHub Pages**  \n",
      "   - LangGraph is a library designed to help build stateful, multi-agent applications using language models. It provides tools for creating workflows and state machines to coordinate multiple AI agents or language model interactions.  \n",
      "   - It is built on top of LangChain, leveraging its components while adding graph-based coordination capabilities.  \n",
      "   - Useful for developing complex agent and multi-agent workflows.  \n",
      "   - [Read more here](https://langchain-ai.github.io/langgraph/tutorials/introduction/).\n",
      "\n",
      "2. **LangGraph: Build Stateful AI Agents in Python**  \n",
      "   - LangGraph is a versatile Python library designed for stateful, cyclic, and multi-actor Large Language Model (LLM) applications.  \n",
      "   - [Explore further on Real Python](https://realpython.com/langgraph-python/).\n",
      "\n",
      "### Key Takeaways:\n",
      "- LangGraph is focused on **stateful, multi-agent workflows**.\n",
      "- It integrates with **LangChain** and enhances it with graph-based coordination.\n",
      "- Ideal for developers working on **complex AI agent systems**.\n",
      "\n",
      "Would you like more details on any specific aspect of LangGraph?\n"
     ]
    }
   ],
   "source": [
    "config = {\"configurable\": {\"thread_id\": \"1\"}}\n",
    "events = graph.stream(\n",
    "    {\n",
    "        \"messages\": [\n",
    "            {\n",
    "                \"role\": \"user\",\n",
    "                \"content\": (\n",
    "                    \"I'm learning LangGraph. \"\n",
    "                    \"Could you do some research on it for me?\"\n",
    "                ),\n",
    "            },\n",
    "        ],\n",
    "    },\n",
    "    config,\n",
    "    stream_mode=\"values\",\n",
    ")\n",
    "for event in events:\n",
    "    if \"messages\" in event:\n",
    "        event[\"messages\"][-1].pretty_print()"
   ]
  },
  {
   "cell_type": "code",
   "execution_count": 14,
   "id": "df7cece3-f574-4a0e-a319-38a82b2c064c",
   "metadata": {},
   "outputs": [
    {
     "name": "stdout",
     "output_type": "stream",
     "text": [
      "================================\u001b[1m Human Message \u001b[0m=================================\n",
      "\n",
      "Ya that's helpful. Maybe I'll build an autonomous agent with it!\n",
      "==================================\u001b[1m Ai Message \u001b[0m==================================\n",
      "\n",
      "That sounds like an exciting project! LangGraph is a great choice for building autonomous agents, especially if you're looking to create **stateful, multi-agent systems** with coordination between different AI actors. Here’s a quick roadmap to get you started:\n",
      "\n",
      "---\n",
      "\n",
      "### **1. Understand the Core Concepts**\n",
      "- **Stateful Workflows**: LangGraph allows you to define workflows where the state is maintained across interactions.\n",
      "- **Multi-Agent Coordination**: You can design systems where multiple agents (LLMs or other components) interact and pass messages.\n",
      "- **Graph-Based Design**: Think of your system as a graph where nodes are agents or tasks, and edges define the flow of control or data.\n",
      "\n",
      "---\n",
      "\n",
      "### **2. Set Up Your Environment**\n",
      "Install LangGraph (assuming you already have Python and LangChain set up):\n",
      "```bash\n",
      "pip install langgraph\n",
      "```\n",
      "\n",
      "---\n",
      "\n",
      "### **3. Build a Simple Autonomous Agent**\n",
      "Here’s a basic example to create a single autonomous agent with memory:\n",
      "\n",
      "#### **Example Code:**\n",
      "```python\n",
      "from langgraph.graph import Graph\n",
      "from langchain.llms import OpenAI\n",
      "from langchain.memory import ConversationBufferMemory\n",
      "\n",
      "# Initialize components\n",
      "llm = OpenAI(temperature=0)\n",
      "memory = ConversationBufferMemory()\n",
      "\n",
      "# Define the agent's behavior\n",
      "def agent_node(state):\n",
      "    # Retrieve conversation history from memory\n",
      "    history = memory.load_memory_variables({})[\"history\"]\n",
      "    # Generate a response\n",
      "    response = llm(f\"History: {history}\\nInput: {state['input']}\\nResponse:\")\n",
      "    # Update memory\n",
      "    memory.save_context({\"input\": state[\"input\"]}, {\"output\": response})\n",
      "    return {\"response\": response}\n",
      "\n",
      "# Create a graph\n",
      "workflow = Graph()\n",
      "workflow.add_node(\"agent\", agent_node)\n",
      "workflow.add_edge(\"agent\", \"agent\")  # Loop back to itself for continuous interaction\n",
      "\n",
      "# Compile and run\n",
      "app = workflow.compile()\n",
      "result = app.invoke({\"input\": \"Hello, how are you?\"})\n",
      "print(result[\"response\"])\n",
      "```\n",
      "\n",
      "---\n",
      "\n",
      "### **4. Scale to Multi-Agent Systems**\n",
      "For a more advanced project, you can:\n",
      "- **Add multiple agents** (e.g., a \"researcher\" and a \"writer\").\n",
      "- **Define conditional edges** (e.g., if the researcher finds data, pass it to the writer).\n",
      "- **Use tools** (e.g., web search, APIs) to enhance agent capabilities.\n",
      "\n",
      "#### **Example Multi-Agent Flow:**\n",
      "1. **Researcher Agent**: Queries the web for information.\n",
      "2. **Writer Agent**: Summarizes the findings.\n",
      "3. **Reviewer Agent**: Validates the output.\n",
      "\n",
      "---\n",
      "\n",
      "### **5. Explore Advanced Features**\n",
      "- **Cycles**: LangGraph supports cyclic workflows (e.g., iterative refinement).\n",
      "- **Human-in-the-Loop**: Add nodes for human feedback.\n",
      "- **Integration with LangChain Tools**: Use pre-built tools for web search, math, etc.\n",
      "\n",
      "---\n",
      "\n",
      "### **Resources**\n",
      "1. [LangGraph Documentation](https://langchain-ai.github.io/langgraph/)\n",
      "2. [Real Python Tutorial](https://realpython.com/langgraph-python/)\n",
      "\n",
      "Would you like help designing a specific workflow or debugging your code as you build? Let me know how I can assist! 🚀\n"
     ]
    }
   ],
   "source": [
    "events = graph.stream(\n",
    "    {\n",
    "        \"messages\": [\n",
    "            {\n",
    "                \"role\": \"user\",\n",
    "                \"content\": (\n",
    "                    \"Ya that's helpful. Maybe I'll \"\n",
    "                    \"build an autonomous agent with it!\"\n",
    "                ),\n",
    "            },\n",
    "        ],\n",
    "    },\n",
    "    config,\n",
    "    stream_mode=\"values\",\n",
    ")\n",
    "for event in events:\n",
    "    if \"messages\" in event:\n",
    "        event[\"messages\"][-1].pretty_print()"
   ]
  },
  {
   "cell_type": "markdown",
   "id": "feb090df-c144-4713-802b-27d4b1c25c11",
   "metadata": {},
   "source": [
    "## 通过抽取历史状态来回溯流程都发生过什么"
   ]
  },
  {
   "cell_type": "code",
   "execution_count": 16,
   "id": "e376089a-422a-4f2c-8277-c7b4045817cb",
   "metadata": {},
   "outputs": [
    {
     "name": "stdout",
     "output_type": "stream",
     "text": [
      "Num Messages:  6 Next:  ()\n",
      "--------------------------------------------------------------------------------\n",
      "Num Messages:  5 Next:  ('chatbot',)\n",
      "--------------------------------------------------------------------------------\n",
      "Num Messages:  4 Next:  ('__start__',)\n",
      "--------------------------------------------------------------------------------\n",
      "Num Messages:  4 Next:  ()\n",
      "--------------------------------------------------------------------------------\n",
      "Num Messages:  3 Next:  ('chatbot',)\n",
      "--------------------------------------------------------------------------------\n",
      "Num Messages:  2 Next:  ('tools',)\n",
      "--------------------------------------------------------------------------------\n",
      "Num Messages:  1 Next:  ('chatbot',)\n",
      "--------------------------------------------------------------------------------\n",
      "Num Messages:  0 Next:  ('__start__',)\n",
      "--------------------------------------------------------------------------------\n"
     ]
    }
   ],
   "source": [
    "to_replay = None\n",
    "for state in graph.get_state_history(config):\n",
    "    print(\"Num Messages: \", len(state.values[\"messages\"]), \"Next: \", state.next)\n",
    "    print(\"-\" * 80)\n",
    "    if len(state.values[\"messages\"]) == 6:\n",
    "        # We are somewhat arbitrarily selecting a specific state based on the number of chat messages in the state.\n",
    "        to_replay = state"
   ]
  },
  {
   "cell_type": "code",
   "execution_count": 17,
   "id": "b0925a69-69d1-4cab-b423-f00e59539da7",
   "metadata": {},
   "outputs": [
    {
     "name": "stdout",
     "output_type": "stream",
     "text": [
      "()\n",
      "{'configurable': {'thread_id': '1', 'checkpoint_ns': '', 'checkpoint_id': '1f00a4c9-741e-6076-8006-1b812fdddf54'}}\n"
     ]
    }
   ],
   "source": [
    "print(to_replay.next)\n",
    "print(to_replay.config)"
   ]
  },
  {
   "cell_type": "code",
   "execution_count": 18,
   "id": "3891f284-0901-4d1f-b87c-b23a0089cc7f",
   "metadata": {},
   "outputs": [
    {
     "name": "stdout",
     "output_type": "stream",
     "text": [
      "==================================\u001b[1m Ai Message \u001b[0m==================================\n",
      "\n",
      "That sounds like an exciting project! LangGraph is a great choice for building autonomous agents, especially if you're looking to create **stateful, multi-agent systems** with coordination between different AI actors. Here’s a quick roadmap to get you started:\n",
      "\n",
      "---\n",
      "\n",
      "### **1. Understand the Core Concepts**\n",
      "- **Stateful Workflows**: LangGraph allows you to define workflows where the state is maintained across interactions.\n",
      "- **Multi-Agent Coordination**: You can design systems where multiple agents (LLMs or other components) interact and pass messages.\n",
      "- **Graph-Based Design**: Think of your system as a graph where nodes are agents or tasks, and edges define the flow of control or data.\n",
      "\n",
      "---\n",
      "\n",
      "### **2. Set Up Your Environment**\n",
      "Install LangGraph (assuming you already have Python and LangChain set up):\n",
      "```bash\n",
      "pip install langgraph\n",
      "```\n",
      "\n",
      "---\n",
      "\n",
      "### **3. Build a Simple Autonomous Agent**\n",
      "Here’s a basic example to create a single autonomous agent with memory:\n",
      "\n",
      "#### **Example Code:**\n",
      "```python\n",
      "from langgraph.graph import Graph\n",
      "from langchain.llms import OpenAI\n",
      "from langchain.memory import ConversationBufferMemory\n",
      "\n",
      "# Initialize components\n",
      "llm = OpenAI(temperature=0)\n",
      "memory = ConversationBufferMemory()\n",
      "\n",
      "# Define the agent's behavior\n",
      "def agent_node(state):\n",
      "    # Retrieve conversation history from memory\n",
      "    history = memory.load_memory_variables({})[\"history\"]\n",
      "    # Generate a response\n",
      "    response = llm(f\"History: {history}\\nInput: {state['input']}\\nResponse:\")\n",
      "    # Update memory\n",
      "    memory.save_context({\"input\": state[\"input\"]}, {\"output\": response})\n",
      "    return {\"response\": response}\n",
      "\n",
      "# Create a graph\n",
      "workflow = Graph()\n",
      "workflow.add_node(\"agent\", agent_node)\n",
      "workflow.add_edge(\"agent\", \"agent\")  # Loop back to itself for continuous interaction\n",
      "\n",
      "# Compile and run\n",
      "app = workflow.compile()\n",
      "result = app.invoke({\"input\": \"Hello, how are you?\"})\n",
      "print(result[\"response\"])\n",
      "```\n",
      "\n",
      "---\n",
      "\n",
      "### **4. Scale to Multi-Agent Systems**\n",
      "For a more advanced project, you can:\n",
      "- **Add multiple agents** (e.g., a \"researcher\" and a \"writer\").\n",
      "- **Define conditional edges** (e.g., if the researcher finds data, pass it to the writer).\n",
      "- **Use tools** (e.g., web search, APIs) to enhance agent capabilities.\n",
      "\n",
      "#### **Example Multi-Agent Flow:**\n",
      "1. **Researcher Agent**: Queries the web for information.\n",
      "2. **Writer Agent**: Summarizes the findings.\n",
      "3. **Reviewer Agent**: Validates the output.\n",
      "\n",
      "---\n",
      "\n",
      "### **5. Explore Advanced Features**\n",
      "- **Cycles**: LangGraph supports cyclic workflows (e.g., iterative refinement).\n",
      "- **Human-in-the-Loop**: Add nodes for human feedback.\n",
      "- **Integration with LangChain Tools**: Use pre-built tools for web search, math, etc.\n",
      "\n",
      "---\n",
      "\n",
      "### **Resources**\n",
      "1. [LangGraph Documentation](https://langchain-ai.github.io/langgraph/)\n",
      "2. [Real Python Tutorial](https://realpython.com/langgraph-python/)\n",
      "\n",
      "Would you like help designing a specific workflow or debugging your code as you build? Let me know how I can assist! 🚀\n"
     ]
    }
   ],
   "source": [
    "# The `checkpoint_id` in the `to_replay.config` corresponds to a state we've persisted to our checkpointer.\n",
    "for event in graph.stream(None, to_replay.config, stream_mode=\"values\"):\n",
    "    if \"messages\" in event:\n",
    "        event[\"messages\"][-1].pretty_print()"
   ]
  },
  {
   "cell_type": "code",
   "execution_count": null,
   "id": "fd9b58c4-83ae-45b9-a924-f57468bd7395",
   "metadata": {},
   "outputs": [],
   "source": []
  }
 ],
 "metadata": {
  "kernelspec": {
   "display_name": "Python 3 (ipykernel)",
   "language": "python",
   "name": "python3"
  },
  "language_info": {
   "codemirror_mode": {
    "name": "ipython",
    "version": 3
   },
   "file_extension": ".py",
   "mimetype": "text/x-python",
   "name": "python",
   "nbconvert_exporter": "python",
   "pygments_lexer": "ipython3",
   "version": "3.9.13"
  },
  "toc-autonumbering": false,
  "toc-showmarkdowntxt": false
 },
 "nbformat": 4,
 "nbformat_minor": 5
}
