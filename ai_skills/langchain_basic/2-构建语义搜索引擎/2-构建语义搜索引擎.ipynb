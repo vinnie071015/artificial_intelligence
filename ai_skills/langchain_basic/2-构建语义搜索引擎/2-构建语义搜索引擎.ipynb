{
 "cells": [
  {
   "cell_type": "markdown",
   "id": "3bd545cc-d5ef-4b27-8a82-d54330f177fd",
   "metadata": {},
   "source": [
    "# 1. 语义搜索引擎搭建\n",
    "- **项目地址：https://python.langchain.com/docs/tutorials/retrievers/**"
   ]
  },
  {
   "cell_type": "markdown",
   "id": "0e695828-e349-4338-ab66-8b99117b0c59",
   "metadata": {},
   "source": [
    "**本项目会使你熟悉LangChain的文档加载器、嵌入和向量存储抽象。这里我们将构建一个搜索引擎基于一个PDF文档，这将使我们能够检索PDF中与输入查询相似的段落。这个项目着重以下几个概念：**\n",
    "- 文档及文档加载器；\n",
    "- 文本分割器；\n",
    "- 嵌入；\n",
    "- 向量存储和提取器；"
   ]
  },
  {
   "cell_type": "markdown",
   "id": "40196c53-82bf-4d21-b866-595eb260995e",
   "metadata": {},
   "source": [
    "# 2. 环境设置\n",
    "- Jupyter notebook or Jupyterlab"
   ]
  },
  {
   "cell_type": "markdown",
   "id": "5030db5b-4c36-46f2-b520-f4952db946f9",
   "metadata": {},
   "source": [
    "- 安装包\n",
    "pip install langchain-community pypdf"
   ]
  },
  {
   "cell_type": "markdown",
   "id": "6f560f07-7514-47e9-a105-4d1ac91a63aa",
   "metadata": {},
   "source": [
    "# 3. LangSmith设置\n",
    "- 用户过程监控，方便debug"
   ]
  },
  {
   "cell_type": "code",
   "execution_count": 2,
   "id": "63e0785f-e2f8-42c7-80e0-d46a9c974b1a",
   "metadata": {},
   "outputs": [
    {
     "name": "stdin",
     "output_type": "stream",
     "text": [
      " ········\n"
     ]
    }
   ],
   "source": [
    "import getpass\n",
    "import os\n",
    "\n",
    "os.environ[\"LANGSMITH_TRACING\"] = \"true\"\n",
    "os.environ[\"LANGSMITH_API_KEY\"] = getpass.getpass()"
   ]
  },
  {
   "cell_type": "markdown",
   "id": "a52a6abb-ed91-4fd6-9e85-da8320d83efc",
   "metadata": {},
   "source": [
    "# 4. 文档及文档加载器\n",
    "- LangChain 可以将文本进行抽象，用以表示一段文本及其相关的元数据。 一般有三个属性：\n",
    "    - page_cotent:代表内容的字符串\n",
    "    - metadata:一个包含任意元数据的字典。可以用来捕捉文档相关的信息。\n",
    "    - id：（选择项）文档的字符串标识符\n",
    "- 单一文档对象-Document通常表示一些大的文档"
   ]
  },
  {
   "cell_type": "code",
   "execution_count": 6,
   "id": "edd31245-8f10-451b-acc0-51e198feab4a",
   "metadata": {},
   "outputs": [],
   "source": [
    "# 从langchain_core来载入Document类，langchain_core在安装langchain-community时已安装好\n",
    "from langchain_core.documents import Document\n",
    "# 构建documents列表，里面包含多个document对象\n",
    "documents = [\n",
    "    Document(\n",
    "        page_content=\"Dogs are great companions, known for their loyalty and friendliness\",\n",
    "        metadata = {\"source\":\"mammal-pets-doc\"},\n",
    "    ),\n",
    "    Document(\n",
    "        page_content=\"Cats are independent pets that often enjoy their own space.\",\n",
    "        metadata={\"source\":\"mammal-pets-doc\"},\n",
    "    ),\n",
    "]\n",
    "    # 单一Document对象，包含以上所说的属性\n"
   ]
  },
  {
   "cell_type": "markdown",
   "id": "0e8d84a5-fe44-4764-adf3-006d75298376",
   "metadata": {},
   "source": [
    "## 4.1.加载文档\n",
    "让我们加载一个PDF文件到一组Document对象里。同一文件夹下有一个PDF样例，2023年的Nike文件，数据来自Langchain官方文档。接下来我们可以访问LangChain文档来查询可用的PDF文档加载器。我们这里选择PyPDFLoader。"
   ]
  },
  {
   "cell_type": "code",
   "execution_count": 7,
   "id": "ac63ce8b-5e33-49db-96bc-87cd596226be",
   "metadata": {},
   "outputs": [
    {
     "name": "stdout",
     "output_type": "stream",
     "text": [
      "107\n"
     ]
    }
   ],
   "source": [
    "# 载入PDFLoader\n",
    "from langchain_community.document_loaders import PyPDFLoader\n",
    "# 初始化了一个PyPDFLoader对象，用于加载指定路径的PDF文件\n",
    "file_path = \"./example_data/nke-10k-2023.pdf\"\n",
    "loader = PyPDFLoader(file_path)\n",
    "# 从指定的 PDF 文件中提取文本内容，并将其结构化为 LangChain 可用的格式，存储在变量 docs 中。\n",
    "docs = loader.load()\n",
    "# 返回列表的长度\n",
    "print(len(docs))"
   ]
  },
  {
   "cell_type": "markdown",
   "id": "ed279c44-0469-4f22-8b6a-a41bb96063eb",
   "metadata": {},
   "source": [
    "- PyPDFLoader 会对PDF文件的每一页都构建一个Document对象，这样我们能轻易拿到该页字符串的数据以及包含了文件名和页数的元数据"
   ]
  },
  {
   "cell_type": "code",
   "execution_count": 9,
   "id": "3fc8ef69-5355-4a6f-88dc-ec7129b9a267",
   "metadata": {},
   "outputs": [
    {
     "name": "stdout",
     "output_type": "stream",
     "text": [
      "Table of Contents\n",
      "UNITED STATES\n",
      "SECURITIES AND EXCHANGE COMMISSION\n",
      "Washington, D.C. 20549\n",
      "FORM 10-K\n",
      "(Mark One)\n",
      "☑  ANNUAL REPORT PURSUANT TO SECTION 13 OR 15(D) OF THE SECURITIES EXCHANGE ACT OF 1934\n",
      "F\n",
      "\n",
      "{'producer': 'EDGRpdf Service w/ EO.Pdf 22.0.40.0', 'creator': 'EDGAR Filing HTML Converter', 'creationdate': '2023-07-20T16:22:00-04:00', 'title': '0000320187-23-000039', 'author': 'EDGAR Online, a division of Donnelley Financial Solutions', 'subject': 'Form 10-K filed on 2023-07-20 for the period ending 2023-05-31', 'keywords': '0000320187-23-000039; ; 10-K', 'moddate': '2023-07-20T16:22:08-04:00', 'source': './example_data/nke-10k-2023.pdf', 'total_pages': 107, 'page': 0, 'page_label': '1'}\n"
     ]
    }
   ],
   "source": [
    "# 打印PDF第一页的前200个字符并换行\n",
    "print(f\"{docs[0].page_content[:200]}\\n\")\n",
    "# 打印第一页的元数据并显示为字典的形式\n",
    "print(docs[0].metadata)"
   ]
  },
  {
   "cell_type": "markdown",
   "id": "3b5fd298-8126-4c05-a163-80fa2e83b150",
   "metadata": {},
   "source": [
    "# 5.文本分割\n",
    "- 对于信息检索以及为了回答下游的问题，一页PDF是不够的。我们的目标是检索Document对象以回答一个输入的问题，进一步分割PDF文件能确保检索到的相关内容的含义不被上下文给洗掉。\n",
    "- 我们可以使用文本分割器来达成这一目的。这里我们将使用一个基于字符区分的文本分割器。我们将把我们的文件拆分成1000个字符的块，其中有200个字符块会重叠。重叠的部分会帮助减少相关概念陈述的拆分，导致意义不全。我们使用RecursiveCharacterTextSplitter这个文本分割器，它将使用新一行等分割符来递归地拆分文档，直到每个块都有合适的大小。对于一般的用例都推荐这个文本分割器。\n",
    "- 我们使用 add_start_index=True 以便将字符索引保存为属性为“start_index”的元数据，这个字符索引是分割后的Document对象在原文件中的字符位置。"
   ]
  },
  {
   "cell_type": "code",
   "execution_count": 11,
   "id": "de3954fa-a8fc-480e-82a7-9eb81c011faf",
   "metadata": {},
   "outputs": [
    {
     "data": {
      "text/plain": [
       "516"
      ]
     },
     "execution_count": 11,
     "metadata": {},
     "output_type": "execute_result"
    }
   ],
   "source": [
    "# langchain_text_splitters 是 langchain的一部分，langchain_community安装时会安装langchain，无需单独安装\n",
    "from langchain_text_splitters import RecursiveCharacterTextSplitter\n",
    "\n",
    "# 初始化文本分割器，设置好相应的参数，后续分割时需要用到\n",
    "text_splitter = RecursiveCharacterTextSplitter(\n",
    "    chunk_size=1000, #每个文本块的最大长度\n",
    "    chunk_overlap=200, #相邻文本块之间的重叠长度，为了避免丢失上下文。\n",
    "    add_start_index=True #在分割后的块中记录该块在原始文本中的起始位置\n",
    ")\n",
    "\n",
    "# 开始分割文档。split_documents会遍历docs中的每个文档，对每个文档的文本内容进行地柜分割。\n",
    "all_splits = text_splitter.split_documents(docs)\n",
    "\n",
    "# Document对象列表长度\n",
    "len(all_splits)"
   ]
  },
  {
   "cell_type": "markdown",
   "id": "c5a7fa81-0614-4ac3-a917-68f7056b6f8d",
   "metadata": {},
   "source": [
    "# 6.嵌入\n",
    "- 将document对象进行向量化处理\n",
    "- 向量搜索是一个常用的方式来存储以及搜索非结构化的数据。主要目的是存储和文本相关联的数字向量。给定一个问题，我可以将其作为一个向量嵌入，这个向量会和文本转化后的向量处在同一向量纬度，然后使用向量相似性的方法去识别相关的文本。\n",
    "- Langchain支持多种供应商的嵌入模型，这些模型规定了文本如何被转化成数字向量。\n",
    "- **这里我们使用HuggingFace来做处理**\n",
    "    - 为什么选择Hugging Face？\n",
    "        - 完全免费\n",
    "        - 丰富的预训练模型\n",
    "        - 文档和社区强大\n",
    "        - 与 LangChain 无缝集成\n",
    "        - 适合入门和进阶"
   ]
  },
  {
   "cell_type": "markdown",
   "id": "b21ee7e9-9e52-4a91-a889-7adb6fc9d9b0",
   "metadata": {},
   "source": [
    "- 安装Hugging Face库  \n",
    "    - pip install -qU langchanin-huggingface\n",
    "- 代码解释\n",
    "    - q（quiet）：静默安装，不显示进度条和冗长的日志信息，只在安装失败时显示错误信息。\n",
    "    - U（upgrade）：如果已经安装了该库，则升级到最新版本。\n"
   ]
  },
  {
   "cell_type": "code",
   "execution_count": 1,
   "id": "550f567b-2eaf-49dc-b97f-dd5aa4dbf04c",
   "metadata": {},
   "outputs": [],
   "source": [
    "# 它的作用是利用 Hugging Face 预训练模型将文本转换为向量，以便在 LangChain 框架中用于检索增强生成（RAG）等任务。\n",
    "from langchain_huggingface import HuggingFaceEmbeddings\n",
    "\n",
    "\n",
    "# 加载 Hugging Face 的 sentence-transformers 预训练模型\n",
    "embeddings = HuggingFaceEmbeddings(model_name=\"sentence-transformers/all-mpnet-base-v2\")\n"
   ]
  },
  {
   "cell_type": "markdown",
   "id": "b77c4f0b-aad7-4f0e-97e6-bf3313517152",
   "metadata": {},
   "source": [
    "- HuggingFaceEmbeddings：LangChain 提供的一个封装类，专门用于调用 Hugging Face 的文本嵌入模型。\n",
    "- model_name=\"sentence-transformers/all-mpnet-base-v2\"：指定使用 sentence-transformers 旗下的 all-mpnet-base-v2 模型，它是一个性能较强的句向量（sentence embeddings）模型，常用于文本相似性计算、语义搜索等任务。"
   ]
  },
  {
   "cell_type": "code",
   "execution_count": 19,
   "id": "7217d9d8-a377-4059-a3f7-39978e03ee96",
   "metadata": {},
   "outputs": [
    {
     "name": "stdout",
     "output_type": "stream",
     "text": [
      "Generated vectors of length 768\n",
      "\n",
      "[0.04747236520051956, 0.021675819531083107, -0.009018069133162498, 0.005356764420866966, 0.02555764466524124, -0.010230285115540028, -0.008413959294557571, 0.03930392488837242, 0.021570494398474693, -0.02409539557993412]\n"
     ]
    }
   ],
   "source": [
    "# 先拿 all_splits[0]/[1] 的 page_content部分，然后用 HuggingFaceEmbeddings.embed_query() 对文本进行向量化。\n",
    "vector_1 = embeddings.embed_query(all_splits[0].page_content)\n",
    "vector_2 = embeddings.embed_query(all_splits[1].page_content)\n",
    "\n",
    "# 这行代码的作用是断言 vector_1 和 vector_2 的长度相等，如果不相等，就会触发AssertionError，终止程序执行。\n",
    "# 确保 Hugging Face 的 embedding 模型输出维度一致。\n",
    "# 防止因向量维度不匹配导致后续计算错误。\n",
    "assert len(vector_1) == len(vector_2)\n",
    "\n",
    "# 打印vector1的长度并打印vector_1的1-10的向量内容\n",
    "print(f\"Generated vectors of length {len(vector_1)}\\n\")\n",
    "print(vector_1[:10])"
   ]
  },
  {
   "cell_type": "markdown",
   "id": "e7341d4d-46ae-43c9-8fef-009ace7ed806",
   "metadata": {},
   "source": [
    "- **配置好了文本向量化生成模型之后，我们下一步可以把他们储存到一个特殊的数据结构中，这个数据结构支持高效的相似性查询。**"
   ]
  },
  {
   "cell_type": "markdown",
   "id": "a3a368af-aa69-4c29-926d-9a20aa22f696",
   "metadata": {},
   "source": [
    "# 7.向量存储\n",
    "- LangChain向量存储对象包含了很多添加文本以及Document对象到向量数据库中的方法，并可以使用多种相似性度量来进行检索储存好的向量。我们经常使用嵌入模型来初始化这些向量，这些模型决定了如何将文本数据转换成数字向量。\n",
    "- LangCahin集成了一套不同的向量存储技术。一些向量数据库有特定的服务商提供，一般是云服务，并需要特定的身份验证才能进行使用，但一些例如Postgres可以在独立的基础设施上运行，可以通过第三方服务或者本地部署，还有一些轻量化的向量数据库可以使用内存来运行，支持低负载任务。这里我们使用Faiss来进行向量存储。"
   ]
  },
  {
   "cell_type": "markdown",
   "id": "e91477eb-b40c-4de9-9ffe-fb2d3e42e95a",
   "metadata": {},
   "source": [
    "**什么是FAISS**\n",
    "- FAISS（Facebook AI Similarity Search）是由 Meta（原 Facebook）AI 研究团队 开发的一款高效相似性搜索库，主要用于大规模向量数据的快速搜索和检索。它特别适用于高维嵌入向量的最近邻搜索（Nearest Neighbor Search, NNS），在机器学习、自然语言处理（NLP）、推荐系统等领域应用广泛。\n",
    "- FAISS 的作用\n",
    "    - ✅ 快速最近邻搜索（Approximate Nearest Neighbor, ANN）：在海量向量数据中找到最相似的向量（如文本、图片、音频等）。\n",
    "    - ✅ 支持高维向量检索：适用于 NLP、计算机视觉等领域的嵌入向量搜索（如 Sentence Transformers、CLIP 等）。\n",
    "    - ✅ 内存 & 磁盘优化：提供不同的索引方式，支持在 CPU 或 GPU 上高效运行，减少内存占用，提升搜索速度。\n",
    "    - ✅ 支持索引压缩（Index Compression）：可以用更少的存储空间处理大规模数据，提高查询效率。\n",
    "    - ✅ 与机器学习框架兼容：可与 PyTorch、TensorFlow、Hugging Face 等 框架结合使用。"
   ]
  },
  {
   "cell_type": "markdown",
   "id": "59a12d60-1448-4214-a2d2-4d5c7235109f",
   "metadata": {},
   "source": [
    "- **安装faiss-cpu依赖**\n",
    "- pip install faiss-cpu\n",
    "- langchain-community 封装的 FAISS 类只是一个包装器，它提供了一组接口，使得你可以在 LangChain 中更方便地使用 FAISS 的功能。但是，实际的 FAISS 实现代码并不在 langchain-community 中，而是由 Facebook 开源的 FAISS 库提供。因此，你需要安装底层依赖（即 faiss-cpu 或 faiss-gpu）来支持真正的向量索引和相似性搜索功能。\n",
    "- faiss-cpu vs faiss-gpu\n",
    "    - faiss-cpu：仅基于 CPU 运行，没有 GPU 加速。适用于没有 GPU 或不需要 GPU 加速的场景。\n",
    "    - faiss-gpu：支持 GPU 加速，能够显著提高大规模向量搜索的性能。需要配置 CUDA 环境和兼容的 GPU。\n"
   ]
  },
  {
   "cell_type": "code",
   "execution_count": 26,
   "id": "104d5152-fe7e-4b3e-b2bc-a5a10ef22857",
   "metadata": {},
   "outputs": [],
   "source": [
    "# langchain_community有封装FAISS的类，可以直接进行使用。\n",
    "from langchain_community.vectorstores import FAISS\n",
    "# 调用初始化好的预训练模型，对分割好的Document文件进行向量化并存储\n",
    "# LangChain在上述类中进行了逻辑处理，使得Hugging face和FAISS的连接可以用下列方式实现\n",
    "vector_store = FAISS.from_documents(all_splits,embeddings)"
   ]
  },
  {
   "cell_type": "markdown",
   "id": "22429a25-306b-4657-8cb6-7f1658c2bc03",
   "metadata": {},
   "source": [
    "- 当我们完成了Document对象的向量存储的实例化，我们就可以进行查询了。向量数据库包含了多种查询方式：\n",
    "    - 同步以及异步；\n",
    "    - 字符串查询或者向量查询；\n",
    "    - 是否返回相似性分数；\n",
    "    - 相似性和最大边际相关性（平衡相似性和检索结果的多样性）\n",
    "- 输出结果也是Document对象"
   ]
  },
  {
   "cell_type": "markdown",
   "id": "da4d9473-e40e-4ac3-a0b8-d4fbf75fc3e7",
   "metadata": {},
   "source": [
    "# 8.向量数据库使用\n",
    "- 嵌入通常将文本表示为一个浓缩的向量，这样相似的文本就能在几何意义上靠近彼此。这使得我们能够通过问题检索到相关信息，而不需要使用任何文档中的特定术语知识。"
   ]
  },
  {
   "cell_type": "code",
   "execution_count": 31,
   "id": "1e8f92fb-c018-4db6-ae59-636c325480d5",
   "metadata": {},
   "outputs": [
    {
     "name": "stdout",
     "output_type": "stream",
     "text": [
      "page_content='operations. We also lease an office complex in Shanghai, China, our headquarters for our Greater China geography, occupied by employees focused on implementing our\n",
      "wholesale, NIKE Direct and merchandising strategies in the region, among other functions.\n",
      "In the United States, NIKE has eight significant distribution centers. Five are located in or near Memphis, Tennessee, two of which are owned and three of which are\n",
      "leased. Two other distribution centers, one located in Indianapolis, Indiana and one located in Dayton, Tennessee, are leased and operated by third-party logistics\n",
      "providers. One distribution center for Converse is located in Ontario, California, which is leased. NIKE has a number of distribution facilities outside the United States,\n",
      "some of which are leased and operated by third-party logistics providers. The most significant distribution facilities outside the United States are located in Laakdal,' metadata={'producer': 'EDGRpdf Service w/ EO.Pdf 22.0.40.0', 'creator': 'EDGAR Filing HTML Converter', 'creationdate': '2023-07-20T16:22:00-04:00', 'title': '0000320187-23-000039', 'author': 'EDGAR Online, a division of Donnelley Financial Solutions', 'subject': 'Form 10-K filed on 2023-07-20 for the period ending 2023-05-31', 'keywords': '0000320187-23-000039; ; 10-K', 'moddate': '2023-07-20T16:22:08-04:00', 'source': './example_data/nke-10k-2023.pdf', 'total_pages': 107, 'page': 26, 'page_label': '27', 'start_index': 804}\n"
     ]
    }
   ],
   "source": [
    "# 基于相似性返回一个查询的文档结果\n",
    "results = vector_store.similarity_search(\n",
    "    \"How many distribution centers does Nike have in the US?\"\n",
    ")\n",
    "\n",
    "print(results[0])"
   ]
  },
  {
   "cell_type": "code",
   "execution_count": 32,
   "id": "3bbd4728-4c58-44b3-9e4b-0f55d289983f",
   "metadata": {},
   "outputs": [
    {
     "name": "stdout",
     "output_type": "stream",
     "text": [
      "page_content='Table of Contents\n",
      "PART I\n",
      "ITEM 1. BUSINESS\n",
      "GENERAL\n",
      "NIKE, Inc. was incorporated in 1967 under the laws of the State of Oregon. As used in this Annual Report on Form 10-K (this \"Annual Report\"), the terms \"we,\" \"us,\" \"our,\"\n",
      "\"NIKE\" and the \"Company\" refer to NIKE, Inc. and its predecessors, subsidiaries and affiliates, collectively, unless the context indicates otherwise.\n",
      "Our principal business activity is the design, development and worldwide marketing and selling of athletic footwear, apparel, equipment, accessories and services. NIKE is\n",
      "the largest seller of athletic footwear and apparel in the world. We sell our products through NIKE Direct operations, which are comprised of both NIKE-owned retail stores\n",
      "and sales through our digital platforms (also referred to as \"NIKE Brand Digital\"), to retail accounts and to a mix of independent distributors, licensees and sales' metadata={'producer': 'EDGRpdf Service w/ EO.Pdf 22.0.40.0', 'creator': 'EDGAR Filing HTML Converter', 'creationdate': '2023-07-20T16:22:00-04:00', 'title': '0000320187-23-000039', 'author': 'EDGAR Online, a division of Donnelley Financial Solutions', 'subject': 'Form 10-K filed on 2023-07-20 for the period ending 2023-05-31', 'keywords': '0000320187-23-000039; ; 10-K', 'moddate': '2023-07-20T16:22:08-04:00', 'source': './example_data/nke-10k-2023.pdf', 'total_pages': 107, 'page': 3, 'page_label': '4', 'start_index': 0}\n"
     ]
    }
   ],
   "source": [
    "# Async query\n",
    "results = await vector_store.asimilarity_search(\"When was Nike incorporated?\")\n",
    "\n",
    "print(results[0])"
   ]
  },
  {
   "cell_type": "markdown",
   "id": "2f280572-042c-4b2c-b10f-7b0cbe9f882d",
   "metadata": {},
   "source": [
    "- 同、异步查询区别\n",
    "    - 同步查询：代码等待查询完成，适用于小规模查询，逻辑简单但可能影响性能。\n",
    "    - 异步查询：代码不会阻塞，可以并行处理多个查询，提高效率，适用于大规模检索场景。"
   ]
  },
  {
   "cell_type": "markdown",
   "id": "eaaf81ac-d563-4c54-a5b6-e85dcfff2aee",
   "metadata": {},
   "source": [
    "### Return scores"
   ]
  },
  {
   "cell_type": "code",
   "execution_count": 33,
   "id": "b4740634-4c84-4d5d-98c1-4d8ed5435c82",
   "metadata": {},
   "outputs": [
    {
     "name": "stdout",
     "output_type": "stream",
     "text": [
      "Score:0.3725222945213318\n",
      "\n",
      "page_content='Table of Contents\n",
      "YEAR ENDED MAY 31,\n",
      "(Dollars in millions) 2023 2022 2021\n",
      "REVENUES\n",
      "North America $ 21,608 $ 18,353 $ 17,179 \n",
      "Europe, Middle East & Africa 13,418 12,479 11,456 \n",
      "Greater China 7,248 7,547 8,290 \n",
      "Asia Pacific & Latin America 6,431 5,955 5,343 \n",
      "Global Brand Divisions 58 102 25 \n",
      "Total NIKE Brand 48,763 44,436 42,293 \n",
      "Converse 2,427 2,346 2,205 \n",
      "Corporate 27 (72) 40 \n",
      "TOTAL NIKE, INC. REVENUES $ 51,217 $ 46,710 $ 44,538 \n",
      "EARNINGS BEFORE INTEREST AND TAXES\n",
      "North America $ 5,454 $ 5,114 $ 5,089 \n",
      "Europe, Middle East & Africa 3,531 3,293 2,435 \n",
      "Greater China 2,283 2,365 3,243 \n",
      "Asia Pacific & Latin America 1,932 1,896 1,530 \n",
      "Global Brand Divisions (4,841) (4,262) (3,656)\n",
      "Converse 676 669 543 \n",
      "Corporate (2,840) (2,219) (2,261)\n",
      "Interest expense (income), net (6) 205 262 \n",
      "TOTAL NIKE, INC. INCOME BEFORE INCOME TAXES $ 6,201 $ 6,651 $ 6,661 \n",
      "ADDITIONS TO PROPERTY, PLANT AND EQUIPMENT\n",
      "North America $ 283 $ 146 $ 98 \n",
      "Europe, Middle East & Africa 215 197 153 \n",
      "Greater China 56 78 94' metadata={'producer': 'EDGRpdf Service w/ EO.Pdf 22.0.40.0', 'creator': 'EDGAR Filing HTML Converter', 'creationdate': '2023-07-20T16:22:00-04:00', 'title': '0000320187-23-000039', 'author': 'EDGAR Online, a division of Donnelley Financial Solutions', 'subject': 'Form 10-K filed on 2023-07-20 for the period ending 2023-05-31', 'keywords': '0000320187-23-000039; ; 10-K', 'moddate': '2023-07-20T16:22:08-04:00', 'source': './example_data/nke-10k-2023.pdf', 'total_pages': 107, 'page': 88, 'page_label': '89', 'start_index': 0}\n"
     ]
    }
   ],
   "source": [
    "# 不同的服务商会采取不同的打分方法\n",
    "# 这里的分数是一个距离度量，与相似性的变化呈反比\n",
    "\n",
    "# results 是一个列表，包含多个元组，每个元组包含一个Document对象一个相似度分数Score\n",
    "results = vector_store.similarity_search_with_score(\"What was Nike's revenue in 2023?\")\n",
    "doc, score = results[0]\n",
    "print(f\"Score:{score}\\n\")\n",
    "print(doc)"
   ]
  },
  {
   "cell_type": "markdown",
   "id": "ff5c3601-dd9d-4e8d-8628-0d44a9c17bc3",
   "metadata": {},
   "source": [
    "### 根据嵌入查询的相似性返回文档。\n",
    "- 系统会将输入的查询（query）转换为向量（embedding），然后在存储的向量数据库中查找与该查询最相似的文档，并返回这些文档。"
   ]
  },
  {
   "cell_type": "code",
   "execution_count": 34,
   "id": "6553cb21-a1d8-4ddc-96a9-a898a13a79bf",
   "metadata": {},
   "outputs": [
    {
     "name": "stdout",
     "output_type": "stream",
     "text": [
      "page_content='Table of Contents\n",
      "GROSS MARGIN\n",
      "FISCAL 2023 COMPARED TO FISCAL 2022\n",
      "For fiscal 2023, our consolidated gross profit increased 4% to $22,292 million compared to $21,479 million for fiscal 2022. Gross margin decreased 250 basis points to\n",
      "43.5% for fiscal 2023 compared to 46.0% for fiscal 2022 due to the following:\n",
      "*Wholesale equivalent\n",
      "The decrease in gross margin for fiscal 2023 was primarily due to:\n",
      "• Higher NIKE Brand product costs, on a wholesale equivalent basis, primarily due to higher input costs and elevated inbound freight and logistics costs as well as\n",
      "product mix;\n",
      "• Lower margin in our NIKE Direct business, driven by higher promotional activity to liquidate inventory in the current period compared to lower promotional activity in\n",
      "the prior period resulting from lower available inventory supply;\n",
      "• Unfavorable changes in net foreign currency exchange rates, including hedges; and\n",
      "• Lower off-price margin, on a wholesale equivalent basis.\n",
      "This was partially offset by:' metadata={'producer': 'EDGRpdf Service w/ EO.Pdf 22.0.40.0', 'creator': 'EDGAR Filing HTML Converter', 'creationdate': '2023-07-20T16:22:00-04:00', 'title': '0000320187-23-000039', 'author': 'EDGAR Online, a division of Donnelley Financial Solutions', 'subject': 'Form 10-K filed on 2023-07-20 for the period ending 2023-05-31', 'keywords': '0000320187-23-000039; ; 10-K', 'moddate': '2023-07-20T16:22:08-04:00', 'source': './example_data/nke-10k-2023.pdf', 'total_pages': 107, 'page': 36, 'page_label': '37', 'start_index': 0}\n"
     ]
    }
   ],
   "source": [
    "\n",
    "embedding = embeddings.embed_query(\"How were Nike's margins impacted in 2023?\")\n",
    "\n",
    "results = vector_store.similarity_search_by_vector(embedding)\n",
    "print(results[0])"
   ]
  },
  {
   "cell_type": "markdown",
   "id": "b7169753-f81d-4679-9a26-5c6ab22768df",
   "metadata": {},
   "source": [
    "# 9. 检索器\n",
    "- 大意： @chain 让 retriever 变成 Runnable，支持 .batch()、.invoke() 等方法。\n",
    "- LangChain的VectorStore对象不会继承Runnable类。LangChain检索器属于Runnables类，所以他有一套标准的方法（例如同步和异步调用及批量操作）。尽管我们能够从向量数据库创建检索器，但检索器也可以与非向量存储的数据源进行交互，例如外部API。\n",
    "- 我们可以自己创建一个简单的版本，而不必继承 Retriever 类。如果我们选择希望使用的文档检索方法，就可以很容易地创建一个 Runnable。下面我们将基于 similarity_search 方法构建一个。"
   ]
  },
  {
   "cell_type": "markdown",
   "id": "81de8096-2107-4efe-9a78-1a8dd2a2666d",
   "metadata": {},
   "source": [
    "- 什么是Runnables类？   \n",
    "\n",
    "    - 在 LangChain 中，“Runnables” 是一种设计模式或接口概念，用于表示那些可以统一调用的组件。也就是说，实现了 Runnables 接口的组件会提供一套标准的方法，比如：\n",
    "    \n",
    "        - 同步调用（例如 run 方法）：调用后等待结果返回；\n",
    "        - 异步调用（例如 arun 方法）：调用后可以并发执行其他任务；\n",
    "        - 批量操作：一次处理多个输入。  \n",
    "\n",
    "    - 这种设计的好处在于，不管具体实现是什么，只要遵循了 Runnables 接口，就可以以相同的方式被调用和集成。例如，LangChain 的检索器（Retrievers）通常实现了 Runnables 接口，这样你就可以用统一的方法来触发它们去查询相关文档，而不用关心内部是如何完成查询的。\n",
    "\n",
    "    - 相反，VectorStore 对象主要负责存储和管理向量数据，它并不需要提供执行（run）功能，所以它不会实现 Runnables 接口。\n",
    "\n",
    "    - 总之，Runnables 类就是指那些可以“运行”或“调用”的组件，它们实现了一套标准接口，以便于在框架中统一使用。"
   ]
  },
  {
   "cell_type": "code",
   "execution_count": 36,
   "id": "188a511a-6c8b-458e-b011-9d0a16a8a682",
   "metadata": {},
   "outputs": [
    {
     "data": {
      "text/plain": [
       "[[Document(id='c6ee2f29-c7f2-4adb-b7ab-6c3020c88efa', metadata={'producer': 'EDGRpdf Service w/ EO.Pdf 22.0.40.0', 'creator': 'EDGAR Filing HTML Converter', 'creationdate': '2023-07-20T16:22:00-04:00', 'title': '0000320187-23-000039', 'author': 'EDGAR Online, a division of Donnelley Financial Solutions', 'subject': 'Form 10-K filed on 2023-07-20 for the period ending 2023-05-31', 'keywords': '0000320187-23-000039; ; 10-K', 'moddate': '2023-07-20T16:22:08-04:00', 'source': './example_data/nke-10k-2023.pdf', 'total_pages': 107, 'page': 26, 'page_label': '27', 'start_index': 804}, page_content='operations. We also lease an office complex in Shanghai, China, our headquarters for our Greater China geography, occupied by employees focused on implementing our\\nwholesale, NIKE Direct and merchandising strategies in the region, among other functions.\\nIn the United States, NIKE has eight significant distribution centers. Five are located in or near Memphis, Tennessee, two of which are owned and three of which are\\nleased. Two other distribution centers, one located in Indianapolis, Indiana and one located in Dayton, Tennessee, are leased and operated by third-party logistics\\nproviders. One distribution center for Converse is located in Ontario, California, which is leased. NIKE has a number of distribution facilities outside the United States,\\nsome of which are leased and operated by third-party logistics providers. The most significant distribution facilities outside the United States are located in Laakdal,')],\n",
       " [Document(id='5c5d86fc-333c-460b-a878-39e2b263a6d5', metadata={'producer': 'EDGRpdf Service w/ EO.Pdf 22.0.40.0', 'creator': 'EDGAR Filing HTML Converter', 'creationdate': '2023-07-20T16:22:00-04:00', 'title': '0000320187-23-000039', 'author': 'EDGAR Online, a division of Donnelley Financial Solutions', 'subject': 'Form 10-K filed on 2023-07-20 for the period ending 2023-05-31', 'keywords': '0000320187-23-000039; ; 10-K', 'moddate': '2023-07-20T16:22:08-04:00', 'source': './example_data/nke-10k-2023.pdf', 'total_pages': 107, 'page': 3, 'page_label': '4', 'start_index': 0}, page_content='Table of Contents\\nPART I\\nITEM 1. BUSINESS\\nGENERAL\\nNIKE, Inc. was incorporated in 1967 under the laws of the State of Oregon. As used in this Annual Report on Form 10-K (this \"Annual Report\"), the terms \"we,\" \"us,\" \"our,\"\\n\"NIKE\" and the \"Company\" refer to NIKE, Inc. and its predecessors, subsidiaries and affiliates, collectively, unless the context indicates otherwise.\\nOur principal business activity is the design, development and worldwide marketing and selling of athletic footwear, apparel, equipment, accessories and services. NIKE is\\nthe largest seller of athletic footwear and apparel in the world. We sell our products through NIKE Direct operations, which are comprised of both NIKE-owned retail stores\\nand sales through our digital platforms (also referred to as \"NIKE Brand Digital\"), to retail accounts and to a mix of independent distributors, licensees and sales')]]"
      ]
     },
     "execution_count": 36,
     "metadata": {},
     "output_type": "execute_result"
    }
   ],
   "source": [
    "# 这是 Python 内置的类型提示库，用来引入泛型 List 类型。\n",
    "# 它允许你在函数签名中指定返回值或变量的类型（例如 List[Document] 表示文档列表）。\n",
    "from typing import List \n",
    "# Document：这是 LangChain 用来表示文档的类，通常包含文本内容和相关元数据。\n",
    "from langchain_core.documents import Document\n",
    "# 这是一个装饰器，用于将普通函数包装成一个“Runnable”，即一个具有统一接口（如同步、异步、批处理等调用方式）的组件。\n",
    "from langchain_core.runnables import chain \n",
    "\n",
    "# @chain装饰器：将 retriever 函数包装成一个 Runnable 对象，赋予它标准化的调用接口。\n",
    "@chain\n",
    "# 函数签名：表示该函数接受一个字符串类型的查询，并返回一个 Document 对象组成的列表。\n",
    "def retriever(query: str) -> List[Document]:\n",
    "    # 对传入的查询进行相似性搜索，返回最相关的（k=1 表示只返回1个结果）。\n",
    "    return vector_store.similarity_search(query, k=1)\n",
    "\n",
    "# 这是 Runnable 对象（由 @chain 装饰后生成的）的批量调用接口。\n",
    "# 一次性处理一批查询，而不是每次单独调用。\n",
    "retriever.batch(\n",
    "    [\n",
    "        \"How many distribution centers does Nike have in the US?\",\n",
    "        \"When was Nike incorporated?\",\n",
    "    ],\n",
    ")"
   ]
  },
  {
   "cell_type": "markdown",
   "id": "6f3bfc6a-4e6c-4011-aa02-d3e1809b6f44",
   "metadata": {},
   "source": [
    "- 向量数据库还使用了一种叫as_retriever的方法来生成检索器，具体来说是VectorStoreRetriever。这些检索器包含了特定的search_type 和 search_kwargs 属性， 这些属性能够识别底层向量存储需要调用的方法，并知道如何参数化他们。例如，我们可以将以上的代码思路这样实现："
   ]
  },
  {
   "cell_type": "code",
   "execution_count": 37,
   "id": "06be8bfc-1d50-495e-9aec-7acad63f4193",
   "metadata": {},
   "outputs": [
    {
     "data": {
      "text/plain": [
       "[[Document(id='c6ee2f29-c7f2-4adb-b7ab-6c3020c88efa', metadata={'producer': 'EDGRpdf Service w/ EO.Pdf 22.0.40.0', 'creator': 'EDGAR Filing HTML Converter', 'creationdate': '2023-07-20T16:22:00-04:00', 'title': '0000320187-23-000039', 'author': 'EDGAR Online, a division of Donnelley Financial Solutions', 'subject': 'Form 10-K filed on 2023-07-20 for the period ending 2023-05-31', 'keywords': '0000320187-23-000039; ; 10-K', 'moddate': '2023-07-20T16:22:08-04:00', 'source': './example_data/nke-10k-2023.pdf', 'total_pages': 107, 'page': 26, 'page_label': '27', 'start_index': 804}, page_content='operations. We also lease an office complex in Shanghai, China, our headquarters for our Greater China geography, occupied by employees focused on implementing our\\nwholesale, NIKE Direct and merchandising strategies in the region, among other functions.\\nIn the United States, NIKE has eight significant distribution centers. Five are located in or near Memphis, Tennessee, two of which are owned and three of which are\\nleased. Two other distribution centers, one located in Indianapolis, Indiana and one located in Dayton, Tennessee, are leased and operated by third-party logistics\\nproviders. One distribution center for Converse is located in Ontario, California, which is leased. NIKE has a number of distribution facilities outside the United States,\\nsome of which are leased and operated by third-party logistics providers. The most significant distribution facilities outside the United States are located in Laakdal,')],\n",
       " [Document(id='5c5d86fc-333c-460b-a878-39e2b263a6d5', metadata={'producer': 'EDGRpdf Service w/ EO.Pdf 22.0.40.0', 'creator': 'EDGAR Filing HTML Converter', 'creationdate': '2023-07-20T16:22:00-04:00', 'title': '0000320187-23-000039', 'author': 'EDGAR Online, a division of Donnelley Financial Solutions', 'subject': 'Form 10-K filed on 2023-07-20 for the period ending 2023-05-31', 'keywords': '0000320187-23-000039; ; 10-K', 'moddate': '2023-07-20T16:22:08-04:00', 'source': './example_data/nke-10k-2023.pdf', 'total_pages': 107, 'page': 3, 'page_label': '4', 'start_index': 0}, page_content='Table of Contents\\nPART I\\nITEM 1. BUSINESS\\nGENERAL\\nNIKE, Inc. was incorporated in 1967 under the laws of the State of Oregon. As used in this Annual Report on Form 10-K (this \"Annual Report\"), the terms \"we,\" \"us,\" \"our,\"\\n\"NIKE\" and the \"Company\" refer to NIKE, Inc. and its predecessors, subsidiaries and affiliates, collectively, unless the context indicates otherwise.\\nOur principal business activity is the design, development and worldwide marketing and selling of athletic footwear, apparel, equipment, accessories and services. NIKE is\\nthe largest seller of athletic footwear and apparel in the world. We sell our products through NIKE Direct operations, which are comprised of both NIKE-owned retail stores\\nand sales through our digital platforms (also referred to as \"NIKE Brand Digital\"), to retail accounts and to a mix of independent distributors, licensees and sales')]]"
      ]
     },
     "execution_count": 37,
     "metadata": {},
     "output_type": "execute_result"
    }
   ],
   "source": [
    "# as_retriever 方法会将 vector_store 转换为一个 Retriever 对象，允许它像一个检索器一样工作。\n",
    "retriever = vector_store.as_retriever(\n",
    "    # 指定检索类型为相似度检索（similarity search）。\n",
    "    search_type=\"similarity\",\n",
    "    # search_kwargs 是一个字典，用于传递检索的额外参数。\n",
    "    # 这里的 k=1 表示返回最相似的 1 个结果（即仅返回最匹配的一个文档）。\n",
    "    search_kwargs={\"k\":1},\n",
    ")\n",
    "\n",
    "retriever.batch(\n",
    "    [\n",
    "        \"How many distribution centers does Nike have in the US?\",\n",
    "        \"When was Nike incorporated?\",\n",
    "    ]\n",
    "\n",
    ")"
   ]
  },
  {
   "cell_type": "markdown",
   "id": "b8e8fa97-3355-4c29-ada2-b09cb653d15d",
   "metadata": {},
   "source": [
    "- VectorStoreRetriever 默认支持相似性搜索，最大边际相关性mmr以及“similarity_score_threshold”.我们可以使用后者通过相似度分数对检索器输出的文档进行筛选。\n",
    "- 检索器可以轻易的被嵌入到更复杂的应用中，例如RAG 应用。了解更多应用构建知识，可以查看RAG教学文档：https://python.langchain.com/docs/tutorials/rag/"
   ]
  },
  {
   "cell_type": "code",
   "execution_count": null,
   "id": "d57ed64e-28c5-4caa-a6d1-3e15ad28ae18",
   "metadata": {},
   "outputs": [],
   "source": []
  }
 ],
 "metadata": {
  "kernelspec": {
   "display_name": "Python 3 (ipykernel)",
   "language": "python",
   "name": "python3"
  },
  "language_info": {
   "codemirror_mode": {
    "name": "ipython",
    "version": 3
   },
   "file_extension": ".py",
   "mimetype": "text/x-python",
   "name": "python",
   "nbconvert_exporter": "python",
   "pygments_lexer": "ipython3",
   "version": "3.9.13"
  },
  "toc-autonumbering": true
 },
 "nbformat": 4,
 "nbformat_minor": 5
}
